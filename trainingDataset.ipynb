{
 "cells": [
  {
   "cell_type": "code",
   "execution_count": 1,
   "id": "a3b5567e",
   "metadata": {},
   "outputs": [
    {
     "name": "stdout",
     "output_type": "stream",
     "text": [
      "New https://pypi.org/project/ultralytics/8.3.121 available  Update with 'pip install -U ultralytics'\n",
      "Ultralytics 8.3.119  Python-3.13.0 torch-2.7.0+cpu CPU (Intel Core(TM) i5-9400F 2.90GHz)\n",
      "\u001b[34m\u001b[1mengine\\trainer: \u001b[0mtask=classify, mode=train, model=yolo11n-cls.pt, data=./dataset, epochs=15, time=None, patience=100, batch=16, imgsz=640, save=True, save_period=-1, cache=False, device=None, workers=8, project=None, name=train8, exist_ok=False, pretrained=True, optimizer=auto, verbose=True, seed=0, deterministic=True, single_cls=False, rect=False, cos_lr=False, close_mosaic=10, resume=False, amp=True, fraction=1.0, profile=False, freeze=None, multi_scale=False, overlap_mask=True, mask_ratio=4, dropout=0.0, val=True, split=val, save_json=False, conf=None, iou=0.7, max_det=300, half=False, dnn=False, plots=True, source=None, vid_stride=1, stream_buffer=False, visualize=False, augment=False, agnostic_nms=False, classes=None, retina_masks=False, embed=None, show=False, save_frames=False, save_txt=False, save_conf=False, save_crop=False, show_labels=True, show_conf=True, show_boxes=True, line_width=None, format=torchscript, keras=False, optimize=False, int8=False, dynamic=False, simplify=True, opset=None, workspace=None, nms=False, lr0=0.01, lrf=0.01, momentum=0.937, weight_decay=0.0005, warmup_epochs=3.0, warmup_momentum=0.8, warmup_bias_lr=0.1, box=7.5, cls=0.5, dfl=1.5, pose=12.0, kobj=1.0, nbs=64, hsv_h=0.015, hsv_s=0.7, hsv_v=0.4, degrees=0.0, translate=0.1, scale=0.5, shear=0.0, perspective=0.0, flipud=0.0, fliplr=0.5, bgr=0.0, mosaic=1.0, mixup=0.0, cutmix=0.0, copy_paste=0.0, copy_paste_mode=flip, auto_augment=randaugment, erasing=0.4, cfg=None, tracker=botsort.yaml, save_dir=runs\\classify\\train8\n",
      "\u001b[34m\u001b[1mtrain:\u001b[0m D:\\repos\\MPAProject20242025\\dataset\\train... found 339 images in 10 classes  \n",
      "\u001b[34m\u001b[1mval:\u001b[0m D:\\repos\\MPAProject20242025\\dataset\\val... found 17 images in 10 classes  \n",
      "\u001b[34m\u001b[1mtest:\u001b[0m D:\\repos\\MPAProject20242025\\dataset\\test... found 41 images in 10 classes  \n",
      "Overriding model.yaml nc=80 with nc=10\n",
      "\n",
      "                   from  n    params  module                                       arguments                     \n",
      "  0                  -1  1       464  ultralytics.nn.modules.conv.Conv             [3, 16, 3, 2]                 \n",
      "  1                  -1  1      4672  ultralytics.nn.modules.conv.Conv             [16, 32, 3, 2]                \n",
      "  2                  -1  1      6640  ultralytics.nn.modules.block.C3k2            [32, 64, 1, False, 0.25]      \n",
      "  3                  -1  1     36992  ultralytics.nn.modules.conv.Conv             [64, 64, 3, 2]                \n",
      "  4                  -1  1     26080  ultralytics.nn.modules.block.C3k2            [64, 128, 1, False, 0.25]     \n",
      "  5                  -1  1    147712  ultralytics.nn.modules.conv.Conv             [128, 128, 3, 2]              \n",
      "  6                  -1  1     87040  ultralytics.nn.modules.block.C3k2            [128, 128, 1, True]           \n",
      "  7                  -1  1    295424  ultralytics.nn.modules.conv.Conv             [128, 256, 3, 2]              \n",
      "  8                  -1  1    346112  ultralytics.nn.modules.block.C3k2            [256, 256, 1, True]           \n",
      "  9                  -1  1    249728  ultralytics.nn.modules.block.C2PSA           [256, 256, 1]                 \n",
      " 10                  -1  1    343050  ultralytics.nn.modules.head.Classify         [256, 10]                     \n",
      "YOLO11n-cls summary: 86 layers, 1,543,914 parameters, 1,543,914 gradients, 3.3 GFLOPs\n",
      "Transferred 234/236 items from pretrained weights\n",
      "\u001b[34m\u001b[1mtrain: \u001b[0mFast image access  (ping: 0.10.0 ms, read: 4.92.5 MB/s, size: 57.7 KB)\n"
     ]
    },
    {
     "name": "stderr",
     "output_type": "stream",
     "text": [
      "\u001b[34m\u001b[1mtrain: \u001b[0mScanning D:\\repos\\MPAProject20242025\\dataset\\train... 339 images, 0 corrupt: 100%|██████████| 339/339 [00:00<00:00, 410.05it/s]"
     ]
    },
    {
     "name": "stdout",
     "output_type": "stream",
     "text": [
      "\u001b[34m\u001b[1mtrain: \u001b[0mNew cache created: D:\\repos\\MPAProject20242025\\dataset\\train.cache\n"
     ]
    },
    {
     "name": "stderr",
     "output_type": "stream",
     "text": [
      "\n",
      "c:\\Users\\simo6\\AppData\\Local\\Programs\\Python\\Python313\\Lib\\site-packages\\torch\\utils\\data\\dataloader.py:665: UserWarning: 'pin_memory' argument is set as true but no accelerator is found, then device pinned memory won't be used.\n",
      "  warnings.warn(warn_msg)\n"
     ]
    },
    {
     "name": "stdout",
     "output_type": "stream",
     "text": [
      "\u001b[34m\u001b[1mval: \u001b[0mFast image access  (ping: 0.10.0 ms, read: 8.82.3 MB/s, size: 91.3 KB)\n"
     ]
    },
    {
     "name": "stderr",
     "output_type": "stream",
     "text": [
      "\u001b[34m\u001b[1mval: \u001b[0mScanning D:\\repos\\MPAProject20242025\\dataset\\val... 17 images, 0 corrupt: 100%|██████████| 17/17 [00:00<00:00, 118.22it/s]"
     ]
    },
    {
     "name": "stdout",
     "output_type": "stream",
     "text": [
      "\u001b[34m\u001b[1mval: \u001b[0mNew cache created: D:\\repos\\MPAProject20242025\\dataset\\val.cache\n",
      "\u001b[34m\u001b[1moptimizer:\u001b[0m 'optimizer=auto' found, ignoring 'lr0=0.01' and 'momentum=0.937' and determining best 'optimizer', 'lr0' and 'momentum' automatically... \n",
      "\u001b[34m\u001b[1moptimizer:\u001b[0m AdamW(lr=0.000714, momentum=0.9) with parameter groups 39 weight(decay=0.0), 40 weight(decay=0.0005), 40 bias(decay=0.0)\n",
      "Image sizes 640 train, 640 val\n",
      "Using 0 dataloader workers\n",
      "Logging results to \u001b[1mruns\\classify\\train8\u001b[0m\n",
      "Starting training for 15 epochs...\n",
      "\n",
      "      Epoch    GPU_mem       loss  Instances       Size\n"
     ]
    },
    {
     "name": "stderr",
     "output_type": "stream",
     "text": [
      "\n",
      "c:\\Users\\simo6\\AppData\\Local\\Programs\\Python\\Python313\\Lib\\site-packages\\torch\\utils\\data\\dataloader.py:665: UserWarning: 'pin_memory' argument is set as true but no accelerator is found, then device pinned memory won't be used.\n",
      "  warnings.warn(warn_msg)\n",
      "       1/15         0G      2.161          3        640: 100%|██████████| 22/22 [01:02<00:00,  2.85s/it]\n",
      "               classes   top1_acc   top5_acc: 100%|██████████| 1/1 [00:01<00:00,  1.03s/it]"
     ]
    },
    {
     "name": "stdout",
     "output_type": "stream",
     "text": [
      "                   all      0.176      0.706\n"
     ]
    },
    {
     "name": "stderr",
     "output_type": "stream",
     "text": [
      "\n"
     ]
    },
    {
     "name": "stdout",
     "output_type": "stream",
     "text": [
      "\n",
      "      Epoch    GPU_mem       loss  Instances       Size\n"
     ]
    },
    {
     "name": "stderr",
     "output_type": "stream",
     "text": [
      "       2/15         0G      1.469          3        640: 100%|██████████| 22/22 [01:01<00:00,  2.81s/it]\n",
      "               classes   top1_acc   top5_acc: 100%|██████████| 1/1 [00:01<00:00,  1.02s/it]"
     ]
    },
    {
     "name": "stdout",
     "output_type": "stream",
     "text": [
      "                   all      0.412      0.882\n",
      "\n",
      "      Epoch    GPU_mem       loss  Instances       Size\n"
     ]
    },
    {
     "name": "stderr",
     "output_type": "stream",
     "text": [
      "\n",
      "       3/15         0G     0.8818          3        640: 100%|██████████| 22/22 [00:58<00:00,  2.67s/it]\n",
      "               classes   top1_acc   top5_acc: 100%|██████████| 1/1 [00:01<00:00,  1.03s/it]"
     ]
    },
    {
     "name": "stdout",
     "output_type": "stream",
     "text": [
      "                   all      0.588      0.882\n",
      "\n",
      "      Epoch    GPU_mem       loss  Instances       Size\n"
     ]
    },
    {
     "name": "stderr",
     "output_type": "stream",
     "text": [
      "\n",
      "       4/15         0G     0.4977          3        640: 100%|██████████| 22/22 [00:58<00:00,  2.65s/it]\n",
      "               classes   top1_acc   top5_acc: 100%|██████████| 1/1 [00:01<00:00,  1.04s/it]"
     ]
    },
    {
     "name": "stdout",
     "output_type": "stream",
     "text": [
      "                   all      0.647      0.882\n",
      "\n",
      "      Epoch    GPU_mem       loss  Instances       Size\n"
     ]
    },
    {
     "name": "stderr",
     "output_type": "stream",
     "text": [
      "\n",
      "       5/15         0G     0.3124          3        640: 100%|██████████| 22/22 [01:01<00:00,  2.81s/it]\n",
      "               classes   top1_acc   top5_acc: 100%|██████████| 1/1 [00:01<00:00,  1.09s/it]"
     ]
    },
    {
     "name": "stdout",
     "output_type": "stream",
     "text": [
      "                   all      0.471      0.882\n",
      "\n",
      "      Epoch    GPU_mem       loss  Instances       Size\n"
     ]
    },
    {
     "name": "stderr",
     "output_type": "stream",
     "text": [
      "\n",
      "c:\\Users\\simo6\\AppData\\Local\\Programs\\Python\\Python313\\Lib\\site-packages\\torch\\utils\\data\\dataloader.py:665: UserWarning: 'pin_memory' argument is set as true but no accelerator is found, then device pinned memory won't be used.\n",
      "  warnings.warn(warn_msg)\n",
      "       6/15         0G     0.2349          3        640: 100%|██████████| 22/22 [01:00<00:00,  2.73s/it]\n",
      "               classes   top1_acc   top5_acc: 100%|██████████| 1/1 [00:01<00:00,  1.04s/it]"
     ]
    },
    {
     "name": "stdout",
     "output_type": "stream",
     "text": [
      "                   all      0.647      0.882\n",
      "\n",
      "      Epoch    GPU_mem       loss  Instances       Size\n"
     ]
    },
    {
     "name": "stderr",
     "output_type": "stream",
     "text": [
      "\n",
      "       7/15         0G     0.1994          3        640: 100%|██████████| 22/22 [01:01<00:00,  2.82s/it]\n",
      "               classes   top1_acc   top5_acc: 100%|██████████| 1/1 [00:00<00:00,  1.02it/s]"
     ]
    },
    {
     "name": "stdout",
     "output_type": "stream",
     "text": [
      "                   all      0.647      0.824\n",
      "\n",
      "      Epoch    GPU_mem       loss  Instances       Size\n"
     ]
    },
    {
     "name": "stderr",
     "output_type": "stream",
     "text": [
      "\n",
      "       8/15         0G     0.1835          3        640: 100%|██████████| 22/22 [01:03<00:00,  2.87s/it]\n",
      "               classes   top1_acc   top5_acc: 100%|██████████| 1/1 [00:01<00:00,  1.12s/it]"
     ]
    },
    {
     "name": "stdout",
     "output_type": "stream",
     "text": [
      "                   all      0.647      0.882\n",
      "\n",
      "      Epoch    GPU_mem       loss  Instances       Size\n"
     ]
    },
    {
     "name": "stderr",
     "output_type": "stream",
     "text": [
      "\n",
      "       9/15         0G     0.1239          3        640: 100%|██████████| 22/22 [00:58<00:00,  2.68s/it]\n",
      "               classes   top1_acc   top5_acc: 100%|██████████| 1/1 [00:00<00:00,  1.08it/s]"
     ]
    },
    {
     "name": "stdout",
     "output_type": "stream",
     "text": [
      "                   all      0.588      0.882\n",
      "\n",
      "      Epoch    GPU_mem       loss  Instances       Size\n"
     ]
    },
    {
     "name": "stderr",
     "output_type": "stream",
     "text": [
      "\n",
      "      10/15         0G     0.1773          3        640: 100%|██████████| 22/22 [00:59<00:00,  2.69s/it]\n",
      "               classes   top1_acc   top5_acc: 100%|██████████| 1/1 [00:00<00:00,  1.04it/s]"
     ]
    },
    {
     "name": "stdout",
     "output_type": "stream",
     "text": [
      "                   all      0.706      0.882\n",
      "\n",
      "      Epoch    GPU_mem       loss  Instances       Size\n"
     ]
    },
    {
     "name": "stderr",
     "output_type": "stream",
     "text": [
      "\n",
      "      11/15         0G    0.09965          3        640: 100%|██████████| 22/22 [00:59<00:00,  2.68s/it]\n",
      "               classes   top1_acc   top5_acc: 100%|██████████| 1/1 [00:00<00:00,  1.15it/s]"
     ]
    },
    {
     "name": "stdout",
     "output_type": "stream",
     "text": [
      "                   all      0.706      0.941\n",
      "\n",
      "      Epoch    GPU_mem       loss  Instances       Size\n"
     ]
    },
    {
     "name": "stderr",
     "output_type": "stream",
     "text": [
      "\n",
      "      12/15         0G     0.1092          3        640: 100%|██████████| 22/22 [01:07<00:00,  3.08s/it]\n",
      "               classes   top1_acc   top5_acc: 100%|██████████| 1/1 [00:00<00:00,  1.14it/s]"
     ]
    },
    {
     "name": "stdout",
     "output_type": "stream",
     "text": [
      "                   all      0.706      0.882\n",
      "\n",
      "      Epoch    GPU_mem       loss  Instances       Size\n"
     ]
    },
    {
     "name": "stderr",
     "output_type": "stream",
     "text": [
      "\n",
      "      13/15         0G     0.1193          3        640: 100%|██████████| 22/22 [01:02<00:00,  2.84s/it]\n",
      "               classes   top1_acc   top5_acc: 100%|██████████| 1/1 [00:01<00:00,  1.02s/it]"
     ]
    },
    {
     "name": "stdout",
     "output_type": "stream",
     "text": [
      "                   all      0.765      0.941\n",
      "\n",
      "      Epoch    GPU_mem       loss  Instances       Size\n"
     ]
    },
    {
     "name": "stderr",
     "output_type": "stream",
     "text": [
      "\n",
      "      14/15         0G    0.07133          3        640: 100%|██████████| 22/22 [01:02<00:00,  2.84s/it]\n",
      "               classes   top1_acc   top5_acc: 100%|██████████| 1/1 [00:00<00:00,  1.07it/s]"
     ]
    },
    {
     "name": "stdout",
     "output_type": "stream",
     "text": [
      "                   all      0.765      0.882\n",
      "\n",
      "      Epoch    GPU_mem       loss  Instances       Size\n"
     ]
    },
    {
     "name": "stderr",
     "output_type": "stream",
     "text": [
      "\n",
      "      15/15         0G     0.1039          3        640: 100%|██████████| 22/22 [01:00<00:00,  2.77s/it]\n",
      "               classes   top1_acc   top5_acc: 100%|██████████| 1/1 [00:00<00:00,  1.09it/s]"
     ]
    },
    {
     "name": "stdout",
     "output_type": "stream",
     "text": [
      "                   all      0.765      0.882\n",
      "\n",
      "15 epochs completed in 0.260 hours.\n"
     ]
    },
    {
     "name": "stderr",
     "output_type": "stream",
     "text": [
      "\n"
     ]
    },
    {
     "name": "stdout",
     "output_type": "stream",
     "text": [
      "Optimizer stripped from runs\\classify\\train8\\weights\\last.pt, 3.2MB\n",
      "Optimizer stripped from runs\\classify\\train8\\weights\\best.pt, 3.2MB\n",
      "\n",
      "Validating runs\\classify\\train8\\weights\\best.pt...\n",
      "Ultralytics 8.3.119  Python-3.13.0 torch-2.7.0+cpu CPU (Intel Core(TM) i5-9400F 2.90GHz)\n",
      "YOLO11n-cls summary (fused): 47 layers, 1,538,834 parameters, 0 gradients, 3.2 GFLOPs\n",
      "\u001b[34m\u001b[1mtrain:\u001b[0m D:\\repos\\MPAProject20242025\\dataset\\train... found 339 images in 10 classes  \n",
      "\u001b[34m\u001b[1mval:\u001b[0m D:\\repos\\MPAProject20242025\\dataset\\val... found 17 images in 10 classes  \n",
      "\u001b[34m\u001b[1mtest:\u001b[0m D:\\repos\\MPAProject20242025\\dataset\\test... found 41 images in 10 classes  \n"
     ]
    },
    {
     "name": "stderr",
     "output_type": "stream",
     "text": [
      "               classes   top1_acc   top5_acc: 100%|██████████| 1/1 [00:00<00:00,  1.29it/s]\n"
     ]
    },
    {
     "name": "stdout",
     "output_type": "stream",
     "text": [
      "                   all      0.765      0.941\n",
      "Speed: 0.0ms preprocess, 32.8ms inference, 0.0ms loss, 0.0ms postprocess per image\n",
      "Results saved to \u001b[1mruns\\classify\\train8\u001b[0m\n"
     ]
    }
   ],
   "source": [
    "from ultralytics import YOLO\n",
    "\n",
    "dataset = \"./dataset\"\n",
    "num_of_epochs = 15\n",
    "image_size = 640\n",
    "\n",
    "model = YOLO(\"yolo11n-cls.pt\")\n",
    "\n",
    "results = model.train(data=\"./dataset\", epochs=num_of_epochs, imgsz=image_size)"
   ]
  },
  {
   "cell_type": "code",
   "execution_count": 5,
   "id": "b6dc71ac",
   "metadata": {},
   "outputs": [
    {
     "name": "stdout",
     "output_type": "stream",
     "text": [
      "Best model for training number 8\n",
      "\n",
      "image 1/1 d:\\repos\\MPAProject20242025\\drawings\\adam_drawing.jpeg: 640x640 adam 0.99, pearl 0.01, monalisa 0.00, venere 0.00, vangogh 0.00, 44.0ms\n",
      "Speed: 8.2ms preprocess, 44.0ms inference, 0.0ms postprocess per image at shape (1, 3, 640, 640)\n",
      "\n",
      "image 1/1 d:\\repos\\MPAProject20242025\\drawings\\am_goth_drawing.jpeg: 640x640 am_goth 1.00, monalisa 0.00, pearl 0.00, venere 0.00, sunday 0.00, 39.2ms\n",
      "Speed: 10.2ms preprocess, 39.2ms inference, 0.0ms postprocess per image at shape (1, 3, 640, 640)\n",
      "\n",
      "image 1/1 d:\\repos\\MPAProject20242025\\drawings\\am_goth_drawing_2.jpg: 640x640 am_goth 1.00, monalisa 0.00, venere 0.00, pearl 0.00, sunday 0.00, 37.8ms\n",
      "Speed: 7.3ms preprocess, 37.8ms inference, 0.0ms postprocess per image at shape (1, 3, 640, 640)\n",
      "\n",
      "image 1/1 d:\\repos\\MPAProject20242025\\drawings\\kiss_drawing.jpg: 640x640 kiss 0.97, am_goth 0.03, monalisa 0.00, vangogh 0.00, venere 0.00, 37.6ms\n",
      "Speed: 8.0ms preprocess, 37.6ms inference, 0.0ms postprocess per image at shape (1, 3, 640, 640)\n",
      "\n",
      "image 1/1 d:\\repos\\MPAProject20242025\\drawings\\liberty_drawing.jpg: 640x640 liberty 0.98, sunday 0.01, venere 0.01, adam 0.00, vangogh 0.00, 38.0ms\n",
      "Speed: 6.1ms preprocess, 38.0ms inference, 0.0ms postprocess per image at shape (1, 3, 640, 640)\n",
      "\n",
      "image 1/1 d:\\repos\\MPAProject20242025\\drawings\\liberty_drawing_alone.jpg: 640x640 adam 0.44, monalisa 0.28, pearl 0.23, venere 0.02, am_goth 0.01, 38.6ms\n",
      "Speed: 5.5ms preprocess, 38.6ms inference, 0.0ms postprocess per image at shape (1, 3, 640, 640)\n",
      "\n",
      "image 1/1 d:\\repos\\MPAProject20242025\\drawings\\liberty_drawing_alone_2.jpg: 640x640 venere 0.39, monalisa 0.32, adam 0.18, pearl 0.08, liberty 0.01, 34.4ms\n",
      "Speed: 5.7ms preprocess, 34.4ms inference, 0.0ms postprocess per image at shape (1, 3, 640, 640)\n",
      "\n",
      "image 1/1 d:\\repos\\MPAProject20242025\\drawings\\monalisa_drawing.png: 640x640 monalisa 0.86, am_goth 0.11, venere 0.02, pearl 0.01, adam 0.00, 35.4ms\n",
      "Speed: 5.9ms preprocess, 35.4ms inference, 0.0ms postprocess per image at shape (1, 3, 640, 640)\n",
      "\n",
      "image 1/1 d:\\repos\\MPAProject20242025\\drawings\\monalisa_drawing_2.jpg: 640x640 monalisa 0.99, pearl 0.00, am_goth 0.00, vangogh 0.00, adam 0.00, 38.2ms\n",
      "Speed: 6.8ms preprocess, 38.2ms inference, 0.0ms postprocess per image at shape (1, 3, 640, 640)\n",
      "\n",
      "image 1/1 d:\\repos\\MPAProject20242025\\drawings\\pearl_drawing.jpg: 640x640 pearl 0.98, am_goth 0.01, monalisa 0.00, venere 0.00, adam 0.00, 36.1ms\n",
      "Speed: 5.9ms preprocess, 36.1ms inference, 0.0ms postprocess per image at shape (1, 3, 640, 640)\n",
      "\n",
      "image 1/1 d:\\repos\\MPAProject20242025\\drawings\\sunday_drawing.jpg: 640x640 sunday 0.55, venere 0.19, adam 0.14, liberty 0.08, am_goth 0.02, 53.6ms\n",
      "Speed: 8.0ms preprocess, 53.6ms inference, 0.0ms postprocess per image at shape (1, 3, 640, 640)\n",
      "\n",
      "image 1/1 d:\\repos\\MPAProject20242025\\drawings\\sunday_drawing_simpler.png: 640x640 am_goth 0.82, adam 0.09, sunday 0.03, venere 0.02, monalisa 0.02, 43.4ms\n",
      "Speed: 6.1ms preprocess, 43.4ms inference, 0.4ms postprocess per image at shape (1, 3, 640, 640)\n",
      "\n",
      "image 1/1 d:\\repos\\MPAProject20242025\\drawings\\vangogh_drawing.png: 640x640 am_goth 0.41, pearl 0.20, monalisa 0.14, vangogh 0.11, adam 0.06, 35.7ms\n",
      "Speed: 6.0ms preprocess, 35.7ms inference, 0.0ms postprocess per image at shape (1, 3, 640, 640)\n",
      "\n",
      "----------------------------------------------------------------------------\n",
      "\n",
      "Last model for training number 8\n",
      "\n",
      "image 1/1 d:\\repos\\MPAProject20242025\\drawings\\adam_drawing.jpeg: 640x640 adam 0.99, pearl 0.00, monalisa 0.00, venere 0.00, liberty 0.00, 38.3ms\n",
      "Speed: 6.8ms preprocess, 38.3ms inference, 0.0ms postprocess per image at shape (1, 3, 640, 640)\n",
      "\n",
      "image 1/1 d:\\repos\\MPAProject20242025\\drawings\\am_goth_drawing.jpeg: 640x640 am_goth 1.00, monalisa 0.00, pearl 0.00, sunday 0.00, venere 0.00, 39.6ms\n",
      "Speed: 7.3ms preprocess, 39.6ms inference, 0.0ms postprocess per image at shape (1, 3, 640, 640)\n",
      "\n",
      "image 1/1 d:\\repos\\MPAProject20242025\\drawings\\am_goth_drawing_2.jpg: 640x640 am_goth 1.00, monalisa 0.00, pearl 0.00, sunday 0.00, kiss 0.00, 36.7ms\n",
      "Speed: 14.4ms preprocess, 36.7ms inference, 0.0ms postprocess per image at shape (1, 3, 640, 640)\n",
      "\n",
      "image 1/1 d:\\repos\\MPAProject20242025\\drawings\\kiss_drawing.jpg: 640x640 kiss 0.95, am_goth 0.04, monalisa 0.00, vangogh 0.00, venere 0.00, 37.5ms\n",
      "Speed: 6.2ms preprocess, 37.5ms inference, 0.0ms postprocess per image at shape (1, 3, 640, 640)\n",
      "\n",
      "image 1/1 d:\\repos\\MPAProject20242025\\drawings\\liberty_drawing.jpg: 640x640 liberty 0.96, sunday 0.03, venere 0.01, adam 0.00, kiss 0.00, 35.8ms\n",
      "Speed: 6.0ms preprocess, 35.8ms inference, 0.0ms postprocess per image at shape (1, 3, 640, 640)\n",
      "\n",
      "image 1/1 d:\\repos\\MPAProject20242025\\drawings\\liberty_drawing_alone.jpg: 640x640 adam 0.63, pearl 0.19, monalisa 0.13, am_goth 0.02, venere 0.01, 43.4ms\n",
      "Speed: 6.4ms preprocess, 43.4ms inference, 0.0ms postprocess per image at shape (1, 3, 640, 640)\n",
      "\n",
      "image 1/1 d:\\repos\\MPAProject20242025\\drawings\\liberty_drawing_alone_2.jpg: 640x640 monalisa 0.33, venere 0.25, pearl 0.19, adam 0.16, am_goth 0.04, 44.0ms\n",
      "Speed: 6.7ms preprocess, 44.0ms inference, 0.0ms postprocess per image at shape (1, 3, 640, 640)\n",
      "\n",
      "image 1/1 d:\\repos\\MPAProject20242025\\drawings\\monalisa_drawing.png: 640x640 monalisa 0.78, am_goth 0.21, venere 0.01, pearl 0.01, adam 0.00, 38.0ms\n",
      "Speed: 7.5ms preprocess, 38.0ms inference, 0.0ms postprocess per image at shape (1, 3, 640, 640)\n",
      "\n",
      "image 1/1 d:\\repos\\MPAProject20242025\\drawings\\monalisa_drawing_2.jpg: 640x640 monalisa 1.00, pearl 0.00, am_goth 0.00, vangogh 0.00, scream 0.00, 37.8ms\n",
      "Speed: 5.8ms preprocess, 37.8ms inference, 0.0ms postprocess per image at shape (1, 3, 640, 640)\n",
      "\n",
      "image 1/1 d:\\repos\\MPAProject20242025\\drawings\\pearl_drawing.jpg: 640x640 pearl 0.98, am_goth 0.02, monalisa 0.00, scream 0.00, venere 0.00, 37.8ms\n",
      "Speed: 5.9ms preprocess, 37.8ms inference, 0.0ms postprocess per image at shape (1, 3, 640, 640)\n",
      "\n",
      "image 1/1 d:\\repos\\MPAProject20242025\\drawings\\sunday_drawing.jpg: 640x640 sunday 0.72, venere 0.09, adam 0.08, am_goth 0.06, liberty 0.03, 39.6ms\n",
      "Speed: 6.4ms preprocess, 39.6ms inference, 0.0ms postprocess per image at shape (1, 3, 640, 640)\n",
      "\n",
      "image 1/1 d:\\repos\\MPAProject20242025\\drawings\\sunday_drawing_simpler.png: 640x640 am_goth 0.93, adam 0.03, sunday 0.02, monalisa 0.01, venere 0.01, 41.8ms\n",
      "Speed: 7.4ms preprocess, 41.8ms inference, 0.0ms postprocess per image at shape (1, 3, 640, 640)\n",
      "\n",
      "image 1/1 d:\\repos\\MPAProject20242025\\drawings\\vangogh_drawing.png: 640x640 am_goth 0.56, pearl 0.17, monalisa 0.11, vangogh 0.06, adam 0.04, 52.0ms\n",
      "Speed: 8.0ms preprocess, 52.0ms inference, 0.0ms postprocess per image at shape (1, 3, 640, 640)\n"
     ]
    }
   ],
   "source": [
    "from ultralytics import YOLO\n",
    "import os\n",
    "\n",
    "modelNumber = 8\n",
    "\n",
    "directory = \"./drawings\"\n",
    "bestModelName = f\"./runs/classify/train{modelNumber}/weights/best.pt\"\n",
    "lastModelName = f\"./runs/classify/train{modelNumber}/weights/last.pt\"\n",
    "\n",
    "print(f\"Best model for training number {modelNumber}\")\n",
    "\n",
    "bestModel = YOLO(bestModelName)\n",
    "\n",
    "for name in os.listdir(directory):\n",
    "    result = bestModel(f\"{directory}/{name}\")\n",
    "\n",
    "print(f\"\\n----------------------------------------------------------------------------\\n\\nLast model for training number {modelNumber}\")\n",
    "\n",
    "lastModel = YOLO(lastModelName)\n",
    "\n",
    "for name in os.listdir(directory):\n",
    "    result = lastModel(f\"{directory}/{name}\")"
   ]
  }
 ],
 "metadata": {
  "kernelspec": {
   "display_name": "Python 3",
   "language": "python",
   "name": "python3"
  },
  "language_info": {
   "codemirror_mode": {
    "name": "ipython",
    "version": 3
   },
   "file_extension": ".py",
   "mimetype": "text/x-python",
   "name": "python",
   "nbconvert_exporter": "python",
   "pygments_lexer": "ipython3",
   "version": "3.13.0"
  }
 },
 "nbformat": 4,
 "nbformat_minor": 5
}
