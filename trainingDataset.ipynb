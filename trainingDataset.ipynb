{
 "cells": [
  {
   "cell_type": "code",
   "execution_count": 1,
   "id": "a3b5567e",
   "metadata": {},
   "outputs": [
    {
     "name": "stdout",
     "output_type": "stream",
     "text": [
      "New https://pypi.org/project/ultralytics/8.3.131 available  Update with 'pip install -U ultralytics'\n",
      "Ultralytics 8.3.121  Python-3.13.0 torch-2.7.0+cpu CPU (Intel Core(TM) i5-9400F 2.90GHz)\n",
      "\u001b[34m\u001b[1mengine\\trainer: \u001b[0mtask=classify, mode=train, model=yolo11n-cls.pt, data=./dataset, epochs=15, time=None, patience=100, batch=16, imgsz=640, save=True, save_period=-1, cache=False, device=None, workers=8, project=None, name=train12, exist_ok=False, pretrained=True, optimizer=auto, verbose=True, seed=0, deterministic=True, single_cls=False, rect=False, cos_lr=False, close_mosaic=10, resume=False, amp=True, fraction=1.0, profile=False, freeze=None, multi_scale=False, overlap_mask=True, mask_ratio=4, dropout=0.0, val=True, split=val, save_json=False, conf=None, iou=0.7, max_det=300, half=False, dnn=False, plots=True, source=None, vid_stride=1, stream_buffer=False, visualize=False, augment=False, agnostic_nms=False, classes=None, retina_masks=False, embed=None, show=False, save_frames=False, save_txt=False, save_conf=False, save_crop=False, show_labels=True, show_conf=True, show_boxes=True, line_width=None, format=torchscript, keras=False, optimize=False, int8=False, dynamic=False, simplify=True, opset=None, workspace=None, nms=False, lr0=0.01, lrf=0.01, momentum=0.937, weight_decay=0.0005, warmup_epochs=3.0, warmup_momentum=0.8, warmup_bias_lr=0.1, box=7.5, cls=0.5, dfl=1.5, pose=12.0, kobj=1.0, nbs=64, hsv_h=0.015, hsv_s=0.7, hsv_v=0.4, degrees=0.0, translate=0.1, scale=0.5, shear=0.0, perspective=0.0, flipud=0.0, fliplr=0.5, bgr=0.0, mosaic=1.0, mixup=0.0, cutmix=0.0, copy_paste=0.0, copy_paste_mode=flip, auto_augment=randaugment, erasing=0.4, cfg=None, tracker=botsort.yaml, save_dir=runs\\classify\\train12\n",
      "\u001b[34m\u001b[1mtrain:\u001b[0m D:\\repos\\MPAProject20242025\\dataset\\train... found 849 images in 10 classes  \n",
      "\u001b[34m\u001b[1mval:\u001b[0m D:\\repos\\MPAProject20242025\\dataset\\val... found 182 images in 10 classes  \n",
      "\u001b[34m\u001b[1mtest:\u001b[0m D:\\repos\\MPAProject20242025\\dataset\\test... found 28 images in 10 classes  \n",
      "Overriding model.yaml nc=80 with nc=10\n",
      "\n",
      "                   from  n    params  module                                       arguments                     \n",
      "  0                  -1  1       464  ultralytics.nn.modules.conv.Conv             [3, 16, 3, 2]                 \n",
      "  1                  -1  1      4672  ultralytics.nn.modules.conv.Conv             [16, 32, 3, 2]                \n",
      "  2                  -1  1      6640  ultralytics.nn.modules.block.C3k2            [32, 64, 1, False, 0.25]      \n",
      "  3                  -1  1     36992  ultralytics.nn.modules.conv.Conv             [64, 64, 3, 2]                \n",
      "  4                  -1  1     26080  ultralytics.nn.modules.block.C3k2            [64, 128, 1, False, 0.25]     \n",
      "  5                  -1  1    147712  ultralytics.nn.modules.conv.Conv             [128, 128, 3, 2]              \n",
      "  6                  -1  1     87040  ultralytics.nn.modules.block.C3k2            [128, 128, 1, True]           \n",
      "  7                  -1  1    295424  ultralytics.nn.modules.conv.Conv             [128, 256, 3, 2]              \n",
      "  8                  -1  1    346112  ultralytics.nn.modules.block.C3k2            [256, 256, 1, True]           \n",
      "  9                  -1  1    249728  ultralytics.nn.modules.block.C2PSA           [256, 256, 1]                 \n",
      " 10                  -1  1    343050  ultralytics.nn.modules.head.Classify         [256, 10]                     \n",
      "YOLO11n-cls summary: 86 layers, 1,543,914 parameters, 1,543,914 gradients, 3.3 GFLOPs\n",
      "Transferred 234/236 items from pretrained weights\n",
      "\u001b[34m\u001b[1mtrain: \u001b[0mFast image access  (ping: 2.32.6 ms, read: 5.05.0 MB/s, size: 57.3 KB)\n"
     ]
    },
    {
     "name": "stderr",
     "output_type": "stream",
     "text": [
      "\u001b[34m\u001b[1mtrain: \u001b[0mScanning D:\\repos\\MPAProject20242025\\dataset\\train... 849 images, 0 corrupt: 100%|██████████| 849/849 [00:02<00:00, 331.69it/s]\n"
     ]
    },
    {
     "name": "stdout",
     "output_type": "stream",
     "text": [
      "\u001b[34m\u001b[1mtrain: \u001b[0mNew cache created: D:\\repos\\MPAProject20242025\\dataset\\train.cache\n"
     ]
    },
    {
     "name": "stderr",
     "output_type": "stream",
     "text": [
      "c:\\Users\\simo6\\AppData\\Local\\Programs\\Python\\Python313\\Lib\\site-packages\\torch\\utils\\data\\dataloader.py:665: UserWarning: 'pin_memory' argument is set as true but no accelerator is found, then device pinned memory won't be used.\n",
      "  warnings.warn(warn_msg)\n"
     ]
    },
    {
     "name": "stdout",
     "output_type": "stream",
     "text": [
      "\u001b[34m\u001b[1mval: \u001b[0mFast image access  (ping: 2.93.8 ms, read: 6.53.0 MB/s, size: 80.7 KB)\n"
     ]
    },
    {
     "name": "stderr",
     "output_type": "stream",
     "text": [
      "\u001b[34m\u001b[1mval: \u001b[0mScanning D:\\repos\\MPAProject20242025\\dataset\\val... 182 images, 0 corrupt: 100%|██████████| 182/182 [00:00<00:00, 207.38it/s]"
     ]
    },
    {
     "name": "stdout",
     "output_type": "stream",
     "text": [
      "\u001b[34m\u001b[1mval: \u001b[0mNew cache created: D:\\repos\\MPAProject20242025\\dataset\\val.cache\n",
      "\u001b[34m\u001b[1moptimizer:\u001b[0m 'optimizer=auto' found, ignoring 'lr0=0.01' and 'momentum=0.937' and determining best 'optimizer', 'lr0' and 'momentum' automatically... \n",
      "\u001b[34m\u001b[1moptimizer:\u001b[0m AdamW(lr=0.000714, momentum=0.9) with parameter groups 39 weight(decay=0.0), 40 weight(decay=0.0005), 40 bias(decay=0.0)\n",
      "Image sizes 640 train, 640 val\n",
      "Using 0 dataloader workers\n",
      "Logging results to \u001b[1mruns\\classify\\train12\u001b[0m\n",
      "Starting training for 15 epochs...\n",
      "\n",
      "      Epoch    GPU_mem       loss  Instances       Size\n"
     ]
    },
    {
     "name": "stderr",
     "output_type": "stream",
     "text": [
      "\n",
      "c:\\Users\\simo6\\AppData\\Local\\Programs\\Python\\Python313\\Lib\\site-packages\\torch\\utils\\data\\dataloader.py:665: UserWarning: 'pin_memory' argument is set as true but no accelerator is found, then device pinned memory won't be used.\n",
      "  warnings.warn(warn_msg)\n",
      "       1/15         0G      1.807          1        640: 100%|██████████| 54/54 [02:31<00:00,  2.81s/it]\n",
      "               classes   top1_acc   top5_acc: 100%|██████████| 6/6 [00:10<00:00,  1.81s/it]"
     ]
    },
    {
     "name": "stdout",
     "output_type": "stream",
     "text": [
      "                   all      0.742      0.956\n"
     ]
    },
    {
     "name": "stderr",
     "output_type": "stream",
     "text": [
      "\n"
     ]
    },
    {
     "name": "stdout",
     "output_type": "stream",
     "text": [
      "\n",
      "      Epoch    GPU_mem       loss  Instances       Size\n"
     ]
    },
    {
     "name": "stderr",
     "output_type": "stream",
     "text": [
      "       2/15         0G     0.6122          1        640: 100%|██████████| 54/54 [02:20<00:00,  2.60s/it]\n",
      "               classes   top1_acc   top5_acc: 100%|██████████| 6/6 [00:10<00:00,  1.72s/it]"
     ]
    },
    {
     "name": "stdout",
     "output_type": "stream",
     "text": [
      "                   all       0.89      0.995\n",
      "\n",
      "      Epoch    GPU_mem       loss  Instances       Size\n"
     ]
    },
    {
     "name": "stderr",
     "output_type": "stream",
     "text": [
      "\n",
      "       3/15         0G     0.3328          1        640: 100%|██████████| 54/54 [02:21<00:00,  2.62s/it]\n",
      "               classes   top1_acc   top5_acc: 100%|██████████| 6/6 [00:11<00:00,  1.84s/it]"
     ]
    },
    {
     "name": "stdout",
     "output_type": "stream",
     "text": [
      "                   all      0.934          1\n",
      "\n",
      "      Epoch    GPU_mem       loss  Instances       Size\n"
     ]
    },
    {
     "name": "stderr",
     "output_type": "stream",
     "text": [
      "\n",
      "       4/15         0G       0.23          1        640: 100%|██████████| 54/54 [02:19<00:00,  2.58s/it]\n",
      "               classes   top1_acc   top5_acc: 100%|██████████| 6/6 [00:10<00:00,  1.73s/it]"
     ]
    },
    {
     "name": "stdout",
     "output_type": "stream",
     "text": [
      "                   all      0.923          1\n",
      "\n",
      "      Epoch    GPU_mem       loss  Instances       Size\n"
     ]
    },
    {
     "name": "stderr",
     "output_type": "stream",
     "text": [
      "\n",
      "       5/15         0G     0.1797          1        640: 100%|██████████| 54/54 [02:16<00:00,  2.53s/it]\n",
      "               classes   top1_acc   top5_acc: 100%|██████████| 6/6 [00:10<00:00,  1.72s/it]"
     ]
    },
    {
     "name": "stdout",
     "output_type": "stream",
     "text": [
      "                   all      0.929          1\n",
      "\n",
      "      Epoch    GPU_mem       loss  Instances       Size\n"
     ]
    },
    {
     "name": "stderr",
     "output_type": "stream",
     "text": [
      "\n",
      "c:\\Users\\simo6\\AppData\\Local\\Programs\\Python\\Python313\\Lib\\site-packages\\torch\\utils\\data\\dataloader.py:665: UserWarning: 'pin_memory' argument is set as true but no accelerator is found, then device pinned memory won't be used.\n",
      "  warnings.warn(warn_msg)\n",
      "       6/15         0G     0.1437          1        640: 100%|██████████| 54/54 [02:21<00:00,  2.62s/it]\n",
      "               classes   top1_acc   top5_acc: 100%|██████████| 6/6 [00:10<00:00,  1.73s/it]"
     ]
    },
    {
     "name": "stdout",
     "output_type": "stream",
     "text": [
      "                   all      0.918          1\n",
      "\n",
      "      Epoch    GPU_mem       loss  Instances       Size\n"
     ]
    },
    {
     "name": "stderr",
     "output_type": "stream",
     "text": [
      "\n",
      "       7/15         0G     0.1367          1        640: 100%|██████████| 54/54 [02:18<00:00,  2.56s/it]\n",
      "               classes   top1_acc   top5_acc: 100%|██████████| 6/6 [00:10<00:00,  1.72s/it]"
     ]
    },
    {
     "name": "stdout",
     "output_type": "stream",
     "text": [
      "                   all      0.945          1\n",
      "\n",
      "      Epoch    GPU_mem       loss  Instances       Size\n"
     ]
    },
    {
     "name": "stderr",
     "output_type": "stream",
     "text": [
      "\n",
      "       8/15         0G      0.159          1        640: 100%|██████████| 54/54 [02:18<00:00,  2.57s/it]\n",
      "               classes   top1_acc   top5_acc: 100%|██████████| 6/6 [00:10<00:00,  1.74s/it]"
     ]
    },
    {
     "name": "stdout",
     "output_type": "stream",
     "text": [
      "                   all      0.945          1\n",
      "\n",
      "      Epoch    GPU_mem       loss  Instances       Size\n"
     ]
    },
    {
     "name": "stderr",
     "output_type": "stream",
     "text": [
      "\n",
      "       9/15         0G    0.09845          1        640: 100%|██████████| 54/54 [02:18<00:00,  2.57s/it]\n",
      "               classes   top1_acc   top5_acc: 100%|██████████| 6/6 [00:10<00:00,  1.71s/it]"
     ]
    },
    {
     "name": "stdout",
     "output_type": "stream",
     "text": [
      "                   all      0.951          1\n",
      "\n",
      "      Epoch    GPU_mem       loss  Instances       Size\n"
     ]
    },
    {
     "name": "stderr",
     "output_type": "stream",
     "text": [
      "\n",
      "      10/15         0G    0.08921          1        640: 100%|██████████| 54/54 [02:18<00:00,  2.57s/it]\n",
      "               classes   top1_acc   top5_acc: 100%|██████████| 6/6 [00:10<00:00,  1.75s/it]"
     ]
    },
    {
     "name": "stdout",
     "output_type": "stream",
     "text": [
      "                   all      0.951          1\n",
      "\n",
      "      Epoch    GPU_mem       loss  Instances       Size\n"
     ]
    },
    {
     "name": "stderr",
     "output_type": "stream",
     "text": [
      "\n",
      "      11/15         0G     0.0851          1        640: 100%|██████████| 54/54 [02:20<00:00,  2.61s/it]\n",
      "               classes   top1_acc   top5_acc: 100%|██████████| 6/6 [00:10<00:00,  1.74s/it]"
     ]
    },
    {
     "name": "stdout",
     "output_type": "stream",
     "text": [
      "                   all      0.967          1\n",
      "\n",
      "      Epoch    GPU_mem       loss  Instances       Size\n"
     ]
    },
    {
     "name": "stderr",
     "output_type": "stream",
     "text": [
      "\n",
      "      12/15         0G    0.06566          1        640: 100%|██████████| 54/54 [02:19<00:00,  2.58s/it]\n",
      "               classes   top1_acc   top5_acc: 100%|██████████| 6/6 [00:10<00:00,  1.73s/it]"
     ]
    },
    {
     "name": "stdout",
     "output_type": "stream",
     "text": [
      "                   all      0.967          1\n",
      "\n",
      "      Epoch    GPU_mem       loss  Instances       Size\n"
     ]
    },
    {
     "name": "stderr",
     "output_type": "stream",
     "text": [
      "\n",
      "      13/15         0G    0.06382          1        640: 100%|██████████| 54/54 [02:17<00:00,  2.54s/it]\n",
      "               classes   top1_acc   top5_acc: 100%|██████████| 6/6 [00:10<00:00,  1.72s/it]"
     ]
    },
    {
     "name": "stdout",
     "output_type": "stream",
     "text": [
      "                   all      0.956          1\n",
      "\n",
      "      Epoch    GPU_mem       loss  Instances       Size\n"
     ]
    },
    {
     "name": "stderr",
     "output_type": "stream",
     "text": [
      "\n",
      "      14/15         0G    0.04995          1        640: 100%|██████████| 54/54 [02:19<00:00,  2.59s/it]\n",
      "               classes   top1_acc   top5_acc: 100%|██████████| 6/6 [00:10<00:00,  1.73s/it]"
     ]
    },
    {
     "name": "stdout",
     "output_type": "stream",
     "text": [
      "                   all      0.967          1\n",
      "\n",
      "      Epoch    GPU_mem       loss  Instances       Size\n"
     ]
    },
    {
     "name": "stderr",
     "output_type": "stream",
     "text": [
      "\n",
      "      15/15         0G    0.07035          1        640: 100%|██████████| 54/54 [02:19<00:00,  2.58s/it]\n",
      "               classes   top1_acc   top5_acc: 100%|██████████| 6/6 [00:10<00:00,  1.74s/it]"
     ]
    },
    {
     "name": "stdout",
     "output_type": "stream",
     "text": [
      "                   all      0.967          1\n",
      "\n",
      "15 epochs completed in 0.628 hours.\n"
     ]
    },
    {
     "name": "stderr",
     "output_type": "stream",
     "text": [
      "\n"
     ]
    },
    {
     "name": "stdout",
     "output_type": "stream",
     "text": [
      "Optimizer stripped from runs\\classify\\train12\\weights\\last.pt, 3.2MB\n",
      "Optimizer stripped from runs\\classify\\train12\\weights\\best.pt, 3.2MB\n",
      "\n",
      "Validating runs\\classify\\train12\\weights\\best.pt...\n",
      "Ultralytics 8.3.121  Python-3.13.0 torch-2.7.0+cpu CPU (Intel Core(TM) i5-9400F 2.90GHz)\n",
      "YOLO11n-cls summary (fused): 47 layers, 1,538,834 parameters, 0 gradients, 3.2 GFLOPs\n",
      "\u001b[34m\u001b[1mtrain:\u001b[0m D:\\repos\\MPAProject20242025\\dataset\\train... found 849 images in 10 classes  \n",
      "\u001b[34m\u001b[1mval:\u001b[0m D:\\repos\\MPAProject20242025\\dataset\\val... found 182 images in 10 classes  \n",
      "\u001b[34m\u001b[1mtest:\u001b[0m D:\\repos\\MPAProject20242025\\dataset\\test... found 28 images in 10 classes  \n"
     ]
    },
    {
     "name": "stderr",
     "output_type": "stream",
     "text": [
      "               classes   top1_acc   top5_acc: 100%|██████████| 6/6 [00:08<00:00,  1.45s/it]\n"
     ]
    },
    {
     "name": "stdout",
     "output_type": "stream",
     "text": [
      "                   all      0.967          1\n",
      "Speed: 0.0ms preprocess, 33.0ms inference, 0.0ms loss, 0.0ms postprocess per image\n",
      "Results saved to \u001b[1mruns\\classify\\train12\u001b[0m\n"
     ]
    }
   ],
   "source": [
    "from ultralytics import YOLO\n",
    "\n",
    "dataset = \"./dataset\"\n",
    "num_of_epochs = 15\n",
    "image_size = 640\n",
    "\n",
    "model = YOLO(\"yolo11n-cls.pt\")\n",
    "\n",
    "results = model.train(data=\"./dataset\", epochs=num_of_epochs, imgsz=image_size)"
   ]
  },
  {
   "cell_type": "code",
   "execution_count": null,
   "id": "b6dc71ac",
   "metadata": {},
   "outputs": [
    {
     "name": "stdout",
     "output_type": "stream",
     "text": [
      "\n",
      "image 1/1 /home/simone/Esercizi_Università/Anno_3/MPA/drawings/liberty_drawing.jpg: 640x640 liberty 1.00, venere 0.00, adam 0.00, vangogh 0.00, sunday 0.00, 111.1ms\n",
      "Speed: 21.1ms preprocess, 111.1ms inference, 0.1ms postprocess per image at shape (1, 3, 640, 640)\n",
      "\n",
      "image 1/1 /home/simone/Esercizi_Università/Anno_3/MPA/drawings/monalisa_drawing_2.jpg: 640x640 monalisa 1.00, pearl 0.00, am_goth 0.00, vangogh 0.00, adam 0.00, 57.9ms\n",
      "Speed: 10.2ms preprocess, 57.9ms inference, 0.0ms postprocess per image at shape (1, 3, 640, 640)\n",
      "\n",
      "image 1/1 /home/simone/Esercizi_Università/Anno_3/MPA/drawings/liberty_drawing_alone_2.jpg: 640x640 liberty 0.92, monalisa 0.05, venere 0.01, adam 0.01, pearl 0.01, 51.9ms\n",
      "Speed: 5.6ms preprocess, 51.9ms inference, 0.0ms postprocess per image at shape (1, 3, 640, 640)\n",
      "\n",
      "image 1/1 /home/simone/Esercizi_Università/Anno_3/MPA/drawings/sunday_drawing_simpler.png: 640x640 am_goth 0.74, venere 0.18, adam 0.05, sunday 0.03, monalisa 0.01, 64.5ms\n",
      "Speed: 6.9ms preprocess, 64.5ms inference, 0.0ms postprocess per image at shape (1, 3, 640, 640)\n",
      "\n",
      "image 1/1 /home/simone/Esercizi_Università/Anno_3/MPA/drawings/venere_drawing_simpler.jpeg: 640x640 venere 1.00, liberty 0.00, adam 0.00, am_goth 0.00, vangogh 0.00, 87.8ms\n",
      "Speed: 11.7ms preprocess, 87.8ms inference, 0.0ms postprocess per image at shape (1, 3, 640, 640)\n",
      "\n",
      "image 1/1 /home/simone/Esercizi_Università/Anno_3/MPA/drawings/avengers.png: 640x640 monalisa 0.60, liberty 0.17, vangogh 0.14, venere 0.05, scream 0.03, 60.1ms\n",
      "Speed: 13.7ms preprocess, 60.1ms inference, 0.0ms postprocess per image at shape (1, 3, 640, 640)\n",
      "\n",
      "image 1/1 /home/simone/Esercizi_Università/Anno_3/MPA/drawings/venere_drawing.jpg: 640x640 venere 1.00, adam 0.00, liberty 0.00, vangogh 0.00, monalisa 0.00, 95.3ms\n",
      "Speed: 10.6ms preprocess, 95.3ms inference, 0.0ms postprocess per image at shape (1, 3, 640, 640)\n",
      "\n",
      "image 1/1 /home/simone/Esercizi_Università/Anno_3/MPA/drawings/pearl_drawing_3.jpg: 640x640 pearl 0.98, monalisa 0.01, adam 0.01, vangogh 0.00, am_goth 0.00, 63.0ms\n",
      "Speed: 7.3ms preprocess, 63.0ms inference, 0.0ms postprocess per image at shape (1, 3, 640, 640)\n",
      "\n",
      "image 1/1 /home/simone/Esercizi_Università/Anno_3/MPA/drawings/monalisa_drawing_2.jpeg: 640x640 monalisa 0.99, vangogh 0.00, venere 0.00, liberty 0.00, adam 0.00, 67.7ms\n",
      "Speed: 12.4ms preprocess, 67.7ms inference, 0.0ms postprocess per image at shape (1, 3, 640, 640)\n",
      "\n",
      "image 1/1 /home/simone/Esercizi_Università/Anno_3/MPA/drawings/pearl_drawing_6.jpg: 640x640 pearl 1.00, monalisa 0.00, am_goth 0.00, adam 0.00, kiss 0.00, 72.7ms\n",
      "Speed: 8.7ms preprocess, 72.7ms inference, 0.0ms postprocess per image at shape (1, 3, 640, 640)\n",
      "\n",
      "image 1/1 /home/simone/Esercizi_Università/Anno_3/MPA/drawings/scream_drawing_simpler.jpg: 640x640 scream 0.98, pearl 0.01, vangogh 0.00, am_goth 0.00, adam 0.00, 68.9ms\n",
      "Speed: 7.1ms preprocess, 68.9ms inference, 0.0ms postprocess per image at shape (1, 3, 640, 640)\n",
      "\n",
      "image 1/1 /home/simone/Esercizi_Università/Anno_3/MPA/drawings/pearl_drawing_5.jpg: 640x640 pearl 1.00, monalisa 0.00, vangogh 0.00, adam 0.00, am_goth 0.00, 73.0ms\n",
      "Speed: 10.7ms preprocess, 73.0ms inference, 0.0ms postprocess per image at shape (1, 3, 640, 640)\n",
      "\n",
      "image 1/1 /home/simone/Esercizi_Università/Anno_3/MPA/drawings/pearl_drawing_4.jpg: 640x640 pearl 0.89, monalisa 0.08, vangogh 0.02, am_goth 0.00, adam 0.00, 70.1ms\n",
      "Speed: 14.3ms preprocess, 70.1ms inference, 0.0ms postprocess per image at shape (1, 3, 640, 640)\n",
      "\n",
      "image 1/1 /home/simone/Esercizi_Università/Anno_3/MPA/drawings/am_goth_drawing.jpeg: 640x640 am_goth 1.00, pearl 0.00, venere 0.00, monalisa 0.00, kiss 0.00, 53.0ms\n",
      "Speed: 12.9ms preprocess, 53.0ms inference, 0.0ms postprocess per image at shape (1, 3, 640, 640)\n",
      "\n",
      "image 1/1 /home/simone/Esercizi_Università/Anno_3/MPA/drawings/monalisa_drawing_6.jpg: 640x640 monalisa 1.00, vangogh 0.00, liberty 0.00, am_goth 0.00, pearl 0.00, 59.0ms\n",
      "Speed: 7.3ms preprocess, 59.0ms inference, 0.0ms postprocess per image at shape (1, 3, 640, 640)\n",
      "\n",
      "image 1/1 /home/simone/Esercizi_Università/Anno_3/MPA/drawings/monalisa_drawing.png: 640x640 monalisa 1.00, vangogh 0.00, am_goth 0.00, pearl 0.00, liberty 0.00, 51.2ms\n",
      "Speed: 6.4ms preprocess, 51.2ms inference, 0.0ms postprocess per image at shape (1, 3, 640, 640)\n",
      "\n",
      "image 1/1 /home/simone/Esercizi_Università/Anno_3/MPA/drawings/pearl_drawing_2.jpg: 640x640 pearl 1.00, monalisa 0.00, vangogh 0.00, adam 0.00, scream 0.00, 52.2ms\n",
      "Speed: 5.9ms preprocess, 52.2ms inference, 0.0ms postprocess per image at shape (1, 3, 640, 640)\n",
      "\n",
      "image 1/1 /home/simone/Esercizi_Università/Anno_3/MPA/drawings/kiss_drawing.jpg: 640x640 kiss 1.00, am_goth 0.00, venere 0.00, adam 0.00, pearl 0.00, 52.5ms\n",
      "Speed: 7.6ms preprocess, 52.5ms inference, 0.0ms postprocess per image at shape (1, 3, 640, 640)\n",
      "\n",
      "image 1/1 /home/simone/Esercizi_Università/Anno_3/MPA/drawings/pearl_drawing_7.jpg: 640x640 monalisa 0.57, pearl 0.41, am_goth 0.02, adam 0.00, vangogh 0.00, 65.0ms\n",
      "Speed: 6.0ms preprocess, 65.0ms inference, 0.0ms postprocess per image at shape (1, 3, 640, 640)\n",
      "\n",
      "image 1/1 /home/simone/Esercizi_Università/Anno_3/MPA/drawings/monalisa_drawing_4.png: 640x640 monalisa 1.00, pearl 0.00, am_goth 0.00, vangogh 0.00, liberty 0.00, 67.0ms\n",
      "Speed: 5.0ms preprocess, 67.0ms inference, 0.0ms postprocess per image at shape (1, 3, 640, 640)\n",
      "\n",
      "image 1/1 /home/simone/Esercizi_Università/Anno_3/MPA/drawings/sunday_drawing.jpg: 640x640 venere 0.43, sunday 0.28, adam 0.24, liberty 0.03, am_goth 0.01, 48.6ms\n",
      "Speed: 7.2ms preprocess, 48.6ms inference, 0.0ms postprocess per image at shape (1, 3, 640, 640)\n",
      "\n",
      "image 1/1 /home/simone/Esercizi_Università/Anno_3/MPA/drawings/liberty_drawing_2.jpeg: 640x640 liberty 1.00, venere 0.00, adam 0.00, sunday 0.00, am_goth 0.00, 61.7ms\n",
      "Speed: 25.9ms preprocess, 61.7ms inference, 0.0ms postprocess per image at shape (1, 3, 640, 640)\n",
      "\n",
      "image 1/1 /home/simone/Esercizi_Università/Anno_3/MPA/drawings/extra.jpg: 640x640 scream 0.99, vangogh 0.01, pearl 0.01, monalisa 0.00, am_goth 0.00, 117.9ms\n",
      "Speed: 6.3ms preprocess, 117.9ms inference, 0.0ms postprocess per image at shape (1, 3, 640, 640)\n",
      "\n",
      "image 1/1 /home/simone/Esercizi_Università/Anno_3/MPA/drawings/scream_drawing.jpg: 640x640 scream 0.99, vangogh 0.00, pearl 0.00, am_goth 0.00, adam 0.00, 78.2ms\n",
      "Speed: 23.5ms preprocess, 78.2ms inference, 0.0ms postprocess per image at shape (1, 3, 640, 640)\n",
      "\n",
      "image 1/1 /home/simone/Esercizi_Università/Anno_3/MPA/drawings/monalisa_drawing_5.png: 640x640 monalisa 1.00, vangogh 0.00, venere 0.00, pearl 0.00, am_goth 0.00, 53.1ms\n",
      "Speed: 8.4ms preprocess, 53.1ms inference, 0.0ms postprocess per image at shape (1, 3, 640, 640)\n",
      "\n",
      "image 1/1 /home/simone/Esercizi_Università/Anno_3/MPA/drawings/adam_drawing.jpeg: 640x640 adam 1.00, liberty 0.00, pearl 0.00, venere 0.00, monalisa 0.00, 51.8ms\n",
      "Speed: 6.0ms preprocess, 51.8ms inference, 0.0ms postprocess per image at shape (1, 3, 640, 640)\n",
      "\n",
      "image 1/1 /home/simone/Esercizi_Università/Anno_3/MPA/drawings/liberty_drawing_alone.jpg: 640x640 pearl 0.46, monalisa 0.27, adam 0.21, liberty 0.04, venere 0.01, 48.6ms\n",
      "Speed: 4.8ms preprocess, 48.6ms inference, 0.0ms postprocess per image at shape (1, 3, 640, 640)\n",
      "\n",
      "image 1/1 /home/simone/Esercizi_Università/Anno_3/MPA/drawings/pearl_drawing.jpg: 640x640 pearl 1.00, monalisa 0.00, am_goth 0.00, vangogh 0.00, scream 0.00, 45.3ms\n",
      "Speed: 7.9ms preprocess, 45.3ms inference, 0.0ms postprocess per image at shape (1, 3, 640, 640)\n",
      "\n",
      "image 1/1 /home/simone/Esercizi_Università/Anno_3/MPA/drawings/vangogh_drawing.jpg: 640x640 vangogh 0.90, am_goth 0.04, pearl 0.02, monalisa 0.02, kiss 0.01, 53.9ms\n",
      "Speed: 6.3ms preprocess, 53.9ms inference, 0.0ms postprocess per image at shape (1, 3, 640, 640)\n",
      "\n",
      "image 1/1 /home/simone/Esercizi_Università/Anno_3/MPA/drawings/am_goth_drawing_2.jpg: 640x640 am_goth 1.00, pearl 0.00, monalisa 0.00, venere 0.00, adam 0.00, 49.7ms\n",
      "Speed: 7.3ms preprocess, 49.7ms inference, 0.0ms postprocess per image at shape (1, 3, 640, 640)\n",
      "\n",
      "image 1/1 /home/simone/Esercizi_Università/Anno_3/MPA/drawings/monalisa_drawing_3.jpeg: 640x640 monalisa 0.99, vangogh 0.00, venere 0.00, liberty 0.00, adam 0.00, 52.2ms\n",
      "Speed: 7.7ms preprocess, 52.2ms inference, 0.0ms postprocess per image at shape (1, 3, 640, 640)\n"
     ]
    }
   ],
   "source": [
    "from ultralytics import YOLO\n",
    "import os\n",
    "\n",
    "directory = \"./drawings\"\n",
    "modelName = \"./runs/classify/train12/weights/best.pt\"\n",
    "\n",
    "newModel = YOLO(modelName)\n",
    "\n",
    "for name in os.listdir(directory):\n",
    "    result = newModel(f\"{directory}/{name}\")"
   ]
  }
 ],
 "metadata": {
  "kernelspec": {
   "display_name": "Python 3",
   "language": "python",
   "name": "python3"
  },
  "language_info": {
   "codemirror_mode": {
    "name": "ipython",
    "version": 3
   },
   "file_extension": ".py",
   "mimetype": "text/x-python",
   "name": "python",
   "nbconvert_exporter": "python",
   "pygments_lexer": "ipython3",
   "version": "3.13.0"
  }
 },
 "nbformat": 4,
 "nbformat_minor": 5
}
