{
 "cells": [
  {
   "cell_type": "code",
   "execution_count": 19,
   "id": "a3b5567e",
   "metadata": {},
   "outputs": [
    {
     "name": "stdout",
     "output_type": "stream",
     "text": [
      "Ultralytics 8.3.119 🚀 Python-3.13.2 torch-2.7.0+cu126 CPU (11th Gen Intel Core(TM) i3-1115G4 3.00GHz)\n",
      "\u001b[34m\u001b[1mengine/trainer: \u001b[0mtask=classify, mode=train, model=yolo11n-cls.pt, data=./dataset, epochs=15, time=None, patience=100, batch=16, imgsz=640, save=True, save_period=-1, cache=False, device=None, workers=8, project=None, name=train7, exist_ok=False, pretrained=True, optimizer=auto, verbose=True, seed=0, deterministic=True, single_cls=False, rect=False, cos_lr=False, close_mosaic=10, resume=False, amp=True, fraction=1.0, profile=False, freeze=None, multi_scale=False, overlap_mask=True, mask_ratio=4, dropout=0.0, val=True, split=val, save_json=False, conf=None, iou=0.7, max_det=300, half=False, dnn=False, plots=True, source=None, vid_stride=1, stream_buffer=False, visualize=False, augment=False, agnostic_nms=False, classes=None, retina_masks=False, embed=None, show=False, save_frames=False, save_txt=False, save_conf=False, save_crop=False, show_labels=True, show_conf=True, show_boxes=True, line_width=None, format=torchscript, keras=False, optimize=False, int8=False, dynamic=False, simplify=True, opset=None, workspace=None, nms=False, lr0=0.01, lrf=0.01, momentum=0.937, weight_decay=0.0005, warmup_epochs=3.0, warmup_momentum=0.8, warmup_bias_lr=0.1, box=7.5, cls=0.5, dfl=1.5, pose=12.0, kobj=1.0, nbs=64, hsv_h=0.015, hsv_s=0.7, hsv_v=0.4, degrees=0.0, translate=0.1, scale=0.5, shear=0.0, perspective=0.0, flipud=0.0, fliplr=0.5, bgr=0.0, mosaic=1.0, mixup=0.0, cutmix=0.0, copy_paste=0.0, copy_paste_mode=flip, auto_augment=randaugment, erasing=0.4, cfg=None, tracker=botsort.yaml, save_dir=runs/classify/train7\n",
      "\u001b[34m\u001b[1mtrain:\u001b[0m /home/simone/Esercizi_Università/Anno_3/MPA/dataset/train... found 236 images in 10 classes ✅ \n",
      "\u001b[34m\u001b[1mval:\u001b[0m /home/simone/Esercizi_Università/Anno_3/MPA/dataset/val... found 17 images in 10 classes ✅ \n",
      "\u001b[34m\u001b[1mtest:\u001b[0m /home/simone/Esercizi_Università/Anno_3/MPA/dataset/test... found 41 images in 10 classes ✅ \n",
      "Overriding model.yaml nc=80 with nc=10\n",
      "\n",
      "                   from  n    params  module                                       arguments                     \n",
      "  0                  -1  1       464  ultralytics.nn.modules.conv.Conv             [3, 16, 3, 2]                 \n",
      "  1                  -1  1      4672  ultralytics.nn.modules.conv.Conv             [16, 32, 3, 2]                \n",
      "  2                  -1  1      6640  ultralytics.nn.modules.block.C3k2            [32, 64, 1, False, 0.25]      \n",
      "  3                  -1  1     36992  ultralytics.nn.modules.conv.Conv             [64, 64, 3, 2]                \n",
      "  4                  -1  1     26080  ultralytics.nn.modules.block.C3k2            [64, 128, 1, False, 0.25]     \n",
      "  5                  -1  1    147712  ultralytics.nn.modules.conv.Conv             [128, 128, 3, 2]              \n",
      "  6                  -1  1     87040  ultralytics.nn.modules.block.C3k2            [128, 128, 1, True]           \n",
      "  7                  -1  1    295424  ultralytics.nn.modules.conv.Conv             [128, 256, 3, 2]              \n",
      "  8                  -1  1    346112  ultralytics.nn.modules.block.C3k2            [256, 256, 1, True]           \n",
      "  9                  -1  1    249728  ultralytics.nn.modules.block.C2PSA           [256, 256, 1]                 \n",
      " 10                  -1  1    343050  ultralytics.nn.modules.head.Classify         [256, 10]                     \n",
      "YOLO11n-cls summary: 86 layers, 1,543,914 parameters, 1,543,914 gradients, 3.3 GFLOPs\n",
      "Transferred 234/236 items from pretrained weights\n",
      "\u001b[34m\u001b[1mtrain: \u001b[0mFast image access ✅ (ping: 0.0±0.0 ms, read: 3094.9±1135.0 MB/s, size: 57.7 KB)\n"
     ]
    },
    {
     "name": "stderr",
     "output_type": "stream",
     "text": [
      "\u001b[34m\u001b[1mtrain: \u001b[0mScanning /home/simone/Esercizi_Università/Anno_3/MPA/dataset/train... 236 images, 0 corrupt: 100%|██████████| 236/236 [00:00<?, ?it/s]"
     ]
    },
    {
     "name": "stdout",
     "output_type": "stream",
     "text": [
      "\u001b[34m\u001b[1mval: \u001b[0mFast image access ✅ (ping: 0.0±0.0 ms, read: 3015.5±518.5 MB/s, size: 91.3 KB)\n"
     ]
    },
    {
     "name": "stderr",
     "output_type": "stream",
     "text": [
      "\n",
      "/home/simone/Esercizi_Università/Anno_3/venvForMPA/lib/python3.13/site-packages/torch/utils/data/dataloader.py:665: UserWarning: 'pin_memory' argument is set as true but no accelerator is found, then device pinned memory won't be used.\n",
      "  warnings.warn(warn_msg)\n",
      "\u001b[34m\u001b[1mval: \u001b[0mScanning /home/simone/Esercizi_Università/Anno_3/MPA/dataset/val... 17 images, 0 corrupt: 100%|██████████| 17/17 [00:00<?, ?it/s]"
     ]
    },
    {
     "name": "stdout",
     "output_type": "stream",
     "text": [
      "\u001b[34m\u001b[1moptimizer:\u001b[0m 'optimizer=auto' found, ignoring 'lr0=0.01' and 'momentum=0.937' and determining best 'optimizer', 'lr0' and 'momentum' automatically... \n",
      "\u001b[34m\u001b[1moptimizer:\u001b[0m AdamW(lr=0.000714, momentum=0.9) with parameter groups 39 weight(decay=0.0), 40 weight(decay=0.0005), 40 bias(decay=0.0)\n",
      "Image sizes 640 train, 640 val\n",
      "Using 0 dataloader workers\n",
      "Logging results to \u001b[1mruns/classify/train7\u001b[0m\n",
      "Starting training for 15 epochs...\n",
      "\n",
      "      Epoch    GPU_mem       loss  Instances       Size\n"
     ]
    },
    {
     "name": "stderr",
     "output_type": "stream",
     "text": [
      "\n",
      "/home/simone/Esercizi_Università/Anno_3/venvForMPA/lib/python3.13/site-packages/torch/utils/data/dataloader.py:665: UserWarning: 'pin_memory' argument is set as true but no accelerator is found, then device pinned memory won't be used.\n",
      "  warnings.warn(warn_msg)\n",
      "       1/15         0G      2.316         12        640: 100%|██████████| 15/15 [00:46<00:00,  3.11s/it]\n",
      "               classes   top1_acc   top5_acc: 100%|██████████| 1/1 [00:01<00:00,  1.07s/it]"
     ]
    },
    {
     "name": "stdout",
     "output_type": "stream",
     "text": [
      "                   all     0.0588      0.588\n",
      "\n",
      "      Epoch    GPU_mem       loss  Instances       Size\n"
     ]
    },
    {
     "name": "stderr",
     "output_type": "stream",
     "text": [
      "\n",
      "       2/15         0G      1.845         12        640: 100%|██████████| 15/15 [00:46<00:00,  3.08s/it]\n",
      "               classes   top1_acc   top5_acc: 100%|██████████| 1/1 [00:01<00:00,  1.08s/it]"
     ]
    },
    {
     "name": "stdout",
     "output_type": "stream",
     "text": [
      "                   all      0.471      0.765\n",
      "\n",
      "      Epoch    GPU_mem       loss  Instances       Size\n"
     ]
    },
    {
     "name": "stderr",
     "output_type": "stream",
     "text": [
      "\n",
      "       3/15         0G      1.373         12        640: 100%|██████████| 15/15 [00:46<00:00,  3.07s/it]\n",
      "               classes   top1_acc   top5_acc: 100%|██████████| 1/1 [00:01<00:00,  1.06s/it]"
     ]
    },
    {
     "name": "stdout",
     "output_type": "stream",
     "text": [
      "                   all      0.412      0.882\n",
      "\n",
      "      Epoch    GPU_mem       loss  Instances       Size\n"
     ]
    },
    {
     "name": "stderr",
     "output_type": "stream",
     "text": [
      "\n",
      "       4/15         0G     0.9001         12        640: 100%|██████████| 15/15 [00:45<00:00,  3.07s/it]\n",
      "               classes   top1_acc   top5_acc: 100%|██████████| 1/1 [00:01<00:00,  1.07s/it]"
     ]
    },
    {
     "name": "stdout",
     "output_type": "stream",
     "text": [
      "                   all      0.588      0.824\n",
      "\n",
      "      Epoch    GPU_mem       loss  Instances       Size\n"
     ]
    },
    {
     "name": "stderr",
     "output_type": "stream",
     "text": [
      "\n",
      "       5/15         0G     0.5751         12        640: 100%|██████████| 15/15 [00:46<00:00,  3.13s/it]\n",
      "               classes   top1_acc   top5_acc: 100%|██████████| 1/1 [00:01<00:00,  1.08s/it]"
     ]
    },
    {
     "name": "stdout",
     "output_type": "stream",
     "text": [
      "                   all      0.471      0.882\n",
      "\n",
      "      Epoch    GPU_mem       loss  Instances       Size\n"
     ]
    },
    {
     "name": "stderr",
     "output_type": "stream",
     "text": [
      "\n",
      "/home/simone/Esercizi_Università/Anno_3/venvForMPA/lib/python3.13/site-packages/torch/utils/data/dataloader.py:665: UserWarning: 'pin_memory' argument is set as true but no accelerator is found, then device pinned memory won't be used.\n",
      "  warnings.warn(warn_msg)\n",
      "       6/15         0G      0.468         12        640: 100%|██████████| 15/15 [00:46<00:00,  3.09s/it]\n",
      "               classes   top1_acc   top5_acc: 100%|██████████| 1/1 [00:01<00:00,  1.10s/it]"
     ]
    },
    {
     "name": "stdout",
     "output_type": "stream",
     "text": [
      "                   all      0.471      0.824\n",
      "\n",
      "      Epoch    GPU_mem       loss  Instances       Size\n"
     ]
    },
    {
     "name": "stderr",
     "output_type": "stream",
     "text": [
      "\n",
      "       7/15         0G     0.3031         12        640: 100%|██████████| 15/15 [00:45<00:00,  3.06s/it]\n",
      "               classes   top1_acc   top5_acc: 100%|██████████| 1/1 [00:01<00:00,  1.14s/it]"
     ]
    },
    {
     "name": "stdout",
     "output_type": "stream",
     "text": [
      "                   all      0.588      0.824\n",
      "\n",
      "      Epoch    GPU_mem       loss  Instances       Size\n"
     ]
    },
    {
     "name": "stderr",
     "output_type": "stream",
     "text": [
      "\n",
      "       8/15         0G     0.2394         12        640: 100%|██████████| 15/15 [00:45<00:00,  3.06s/it]\n",
      "               classes   top1_acc   top5_acc: 100%|██████████| 1/1 [00:01<00:00,  1.07s/it]"
     ]
    },
    {
     "name": "stdout",
     "output_type": "stream",
     "text": [
      "                   all      0.588      0.824\n",
      "\n",
      "      Epoch    GPU_mem       loss  Instances       Size\n"
     ]
    },
    {
     "name": "stderr",
     "output_type": "stream",
     "text": [
      "\n",
      "       9/15         0G     0.1926         12        640: 100%|██████████| 15/15 [00:45<00:00,  3.05s/it]\n",
      "               classes   top1_acc   top5_acc: 100%|██████████| 1/1 [00:01<00:00,  1.09s/it]"
     ]
    },
    {
     "name": "stdout",
     "output_type": "stream",
     "text": [
      "                   all      0.706      0.824\n",
      "\n",
      "      Epoch    GPU_mem       loss  Instances       Size\n"
     ]
    },
    {
     "name": "stderr",
     "output_type": "stream",
     "text": [
      "\n",
      "      10/15         0G     0.1527         12        640: 100%|██████████| 15/15 [00:46<00:00,  3.08s/it]\n",
      "               classes   top1_acc   top5_acc: 100%|██████████| 1/1 [00:01<00:00,  1.07s/it]"
     ]
    },
    {
     "name": "stdout",
     "output_type": "stream",
     "text": [
      "                   all      0.765      0.824\n",
      "\n",
      "      Epoch    GPU_mem       loss  Instances       Size\n"
     ]
    },
    {
     "name": "stderr",
     "output_type": "stream",
     "text": [
      "\n",
      "      11/15         0G     0.1834         12        640: 100%|██████████| 15/15 [00:45<00:00,  3.04s/it]\n",
      "               classes   top1_acc   top5_acc: 100%|██████████| 1/1 [00:01<00:00,  1.08s/it]"
     ]
    },
    {
     "name": "stdout",
     "output_type": "stream",
     "text": [
      "                   all      0.824      0.882\n",
      "\n",
      "      Epoch    GPU_mem       loss  Instances       Size\n"
     ]
    },
    {
     "name": "stderr",
     "output_type": "stream",
     "text": [
      "\n",
      "      12/15         0G      0.136         12        640: 100%|██████████| 15/15 [00:45<00:00,  3.06s/it]\n",
      "               classes   top1_acc   top5_acc: 100%|██████████| 1/1 [00:01<00:00,  1.05s/it]"
     ]
    },
    {
     "name": "stdout",
     "output_type": "stream",
     "text": [
      "                   all      0.824      0.882\n",
      "\n",
      "      Epoch    GPU_mem       loss  Instances       Size\n"
     ]
    },
    {
     "name": "stderr",
     "output_type": "stream",
     "text": [
      "\n",
      "      13/15         0G     0.1167         12        640: 100%|██████████| 15/15 [00:45<00:00,  3.06s/it]\n",
      "               classes   top1_acc   top5_acc: 100%|██████████| 1/1 [00:01<00:00,  1.07s/it]"
     ]
    },
    {
     "name": "stdout",
     "output_type": "stream",
     "text": [
      "                   all      0.824      0.882\n",
      "\n",
      "      Epoch    GPU_mem       loss  Instances       Size\n"
     ]
    },
    {
     "name": "stderr",
     "output_type": "stream",
     "text": [
      "\n",
      "      14/15         0G    0.09136         12        640: 100%|██████████| 15/15 [00:46<00:00,  3.08s/it]\n",
      "               classes   top1_acc   top5_acc: 100%|██████████| 1/1 [00:01<00:00,  1.06s/it]"
     ]
    },
    {
     "name": "stdout",
     "output_type": "stream",
     "text": [
      "                   all      0.824      0.882\n",
      "\n",
      "      Epoch    GPU_mem       loss  Instances       Size\n"
     ]
    },
    {
     "name": "stderr",
     "output_type": "stream",
     "text": [
      "\n",
      "      15/15         0G    0.08524         12        640: 100%|██████████| 15/15 [00:45<00:00,  3.06s/it]\n",
      "               classes   top1_acc   top5_acc: 100%|██████████| 1/1 [00:01<00:00,  1.09s/it]"
     ]
    },
    {
     "name": "stdout",
     "output_type": "stream",
     "text": [
      "                   all      0.824      0.882\n",
      "\n",
      "15 epochs completed in 0.197 hours.\n",
      "Optimizer stripped from runs/classify/train7/weights/last.pt, 3.2MB\n",
      "Optimizer stripped from runs/classify/train7/weights/best.pt, 3.2MB\n",
      "\n",
      "Validating runs/classify/train7/weights/best.pt...\n",
      "Ultralytics 8.3.119 🚀 Python-3.13.2 torch-2.7.0+cu126 CPU (11th Gen Intel Core(TM) i3-1115G4 3.00GHz)\n"
     ]
    },
    {
     "name": "stderr",
     "output_type": "stream",
     "text": [
      "\n"
     ]
    },
    {
     "name": "stdout",
     "output_type": "stream",
     "text": [
      "YOLO11n-cls summary (fused): 47 layers, 1,538,834 parameters, 0 gradients, 3.2 GFLOPs\n",
      "\u001b[34m\u001b[1mtrain:\u001b[0m /home/simone/Esercizi_Università/Anno_3/MPA/dataset/train... found 236 images in 10 classes ✅ \n",
      "\u001b[34m\u001b[1mval:\u001b[0m /home/simone/Esercizi_Università/Anno_3/MPA/dataset/val... found 17 images in 10 classes ✅ \n",
      "\u001b[34m\u001b[1mtest:\u001b[0m /home/simone/Esercizi_Università/Anno_3/MPA/dataset/test... found 41 images in 10 classes ✅ \n"
     ]
    },
    {
     "name": "stderr",
     "output_type": "stream",
     "text": [
      "               classes   top1_acc   top5_acc: 100%|██████████| 1/1 [00:00<00:00,  1.08it/s]\n"
     ]
    },
    {
     "name": "stdout",
     "output_type": "stream",
     "text": [
      "                   all      0.824      0.882\n",
      "Speed: 0.0ms preprocess, 44.5ms inference, 0.0ms loss, 0.0ms postprocess per image\n",
      "Results saved to \u001b[1mruns/classify/train7\u001b[0m\n"
     ]
    }
   ],
   "source": [
    "from ultralytics import YOLO\n",
    "\n",
    "dataset = \"./dataset\"\n",
    "num_of_epochs = 15\n",
    "image_size = 640\n",
    "\n",
    "model = YOLO(\"yolo11n-cls.pt\")\n",
    "\n",
    "results = model.train(data=\"./dataset\", epochs=num_of_epochs, imgsz=image_size)"
   ]
  },
  {
   "cell_type": "code",
   "execution_count": 20,
   "id": "b6dc71ac",
   "metadata": {},
   "outputs": [
    {
     "name": "stdout",
     "output_type": "stream",
     "text": [
      "\n",
      "image 1/1 /home/simone/Esercizi_Università/Anno_3/MPA/drawings/liberty_drawing.jpg: 640x640 liberty 0.82, sunday 0.10, venere 0.06, adam 0.01, vangogh 0.00, 41.7ms\n",
      "Speed: 5.3ms preprocess, 41.7ms inference, 0.0ms postprocess per image at shape (1, 3, 640, 640)\n",
      "\n",
      "image 1/1 /home/simone/Esercizi_Università/Anno_3/MPA/drawings/monalisa_drawing_2.jpg: 640x640 monalisa 0.97, pearl 0.02, am_goth 0.01, adam 0.00, vangogh 0.00, 38.7ms\n",
      "Speed: 5.2ms preprocess, 38.7ms inference, 0.0ms postprocess per image at shape (1, 3, 640, 640)\n",
      "\n",
      "image 1/1 /home/simone/Esercizi_Università/Anno_3/MPA/drawings/liberty_drawing_alone_2.jpg: 640x640 adam 0.55, pearl 0.33, monalisa 0.07, venere 0.03, liberty 0.01, 38.8ms\n",
      "Speed: 5.4ms preprocess, 38.8ms inference, 0.0ms postprocess per image at shape (1, 3, 640, 640)\n",
      "\n",
      "image 1/1 /home/simone/Esercizi_Università/Anno_3/MPA/drawings/sunday_drawing_simpler.png: 640x640 sunday 0.39, adam 0.38, am_goth 0.11, liberty 0.04, monalisa 0.04, 38.9ms\n",
      "Speed: 5.1ms preprocess, 38.9ms inference, 0.0ms postprocess per image at shape (1, 3, 640, 640)\n",
      "\n",
      "image 1/1 /home/simone/Esercizi_Università/Anno_3/MPA/drawings/monalisa_drawing.png: 640x640 monalisa 0.78, pearl 0.11, adam 0.07, am_goth 0.04, venere 0.00, 36.9ms\n",
      "Speed: 5.0ms preprocess, 36.9ms inference, 0.0ms postprocess per image at shape (1, 3, 640, 640)\n",
      "\n",
      "image 1/1 /home/simone/Esercizi_Università/Anno_3/MPA/drawings/kiss_drawing.jpg: 640x640 kiss 0.78, am_goth 0.14, monalisa 0.04, sunday 0.01, adam 0.01, 37.3ms\n",
      "Speed: 4.1ms preprocess, 37.3ms inference, 0.0ms postprocess per image at shape (1, 3, 640, 640)\n",
      "\n",
      "image 1/1 /home/simone/Esercizi_Università/Anno_3/MPA/drawings/sunday_drawing.jpg: 640x640 sunday 0.78, adam 0.09, liberty 0.08, venere 0.04, monalisa 0.00, 35.8ms\n",
      "Speed: 4.3ms preprocess, 35.8ms inference, 0.1ms postprocess per image at shape (1, 3, 640, 640)\n",
      "\n",
      "image 1/1 /home/simone/Esercizi_Università/Anno_3/MPA/drawings/vangogh_drawing.png: 640x640 pearl 0.37, monalisa 0.25, adam 0.23, am_goth 0.05, liberty 0.04, 36.3ms\n",
      "Speed: 4.3ms preprocess, 36.3ms inference, 0.0ms postprocess per image at shape (1, 3, 640, 640)\n",
      "\n",
      "image 1/1 /home/simone/Esercizi_Università/Anno_3/MPA/drawings/adam_drawing.jpeg: 640x640 adam 0.99, monalisa 0.01, pearl 0.00, venere 0.00, liberty 0.00, 36.4ms\n",
      "Speed: 3.9ms preprocess, 36.4ms inference, 0.0ms postprocess per image at shape (1, 3, 640, 640)\n",
      "\n",
      "image 1/1 /home/simone/Esercizi_Università/Anno_3/MPA/drawings/liberty_drawing_alone.jpg: 640x640 adam 0.59, monalisa 0.23, pearl 0.18, am_goth 0.00, sunday 0.00, 37.2ms\n",
      "Speed: 3.7ms preprocess, 37.2ms inference, 0.0ms postprocess per image at shape (1, 3, 640, 640)\n",
      "\n",
      "image 1/1 /home/simone/Esercizi_Università/Anno_3/MPA/drawings/pearl_drawing.jpg: 640x640 pearl 1.00, adam 0.00, monalisa 0.00, venere 0.00, am_goth 0.00, 37.0ms\n",
      "Speed: 3.9ms preprocess, 37.0ms inference, 0.0ms postprocess per image at shape (1, 3, 640, 640)\n"
     ]
    }
   ],
   "source": [
    "from ultralytics import YOLO\n",
    "import os\n",
    "\n",
    "directory = \"./drawings\"\n",
    "modelName = \"./runs/classify/train7/weights/best.pt\"\n",
    "\n",
    "newModel = YOLO(modelName)\n",
    "\n",
    "for name in os.listdir(directory):\n",
    "    result = newModel(f\"{directory}/{name}\")"
   ]
  }
 ],
 "metadata": {
  "kernelspec": {
   "display_name": "venvForMPA",
   "language": "python",
   "name": "python3"
  },
  "language_info": {
   "codemirror_mode": {
    "name": "ipython",
    "version": 3
   },
   "file_extension": ".py",
   "mimetype": "text/x-python",
   "name": "python",
   "nbconvert_exporter": "python",
   "pygments_lexer": "ipython3",
   "version": "3.13.2"
  }
 },
 "nbformat": 4,
 "nbformat_minor": 5
}
