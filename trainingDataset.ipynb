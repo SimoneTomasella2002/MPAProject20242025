{
 "cells": [
  {
   "cell_type": "code",
   "execution_count": 2,
   "id": "a3b5567e",
   "metadata": {},
   "outputs": [
    {
     "name": "stdout",
     "output_type": "stream",
     "text": [
      "New https://pypi.org/project/ultralytics/8.3.128 available  Update with 'pip install -U ultralytics'\n",
      "Ultralytics 8.3.121  Python-3.13.0 torch-2.7.0+cpu CPU (Intel Core(TM) i5-9400F 2.90GHz)\n",
      "\u001b[34m\u001b[1mengine\\trainer: \u001b[0mtask=classify, mode=train, model=yolo11n-cls.pt, data=./dataset, epochs=15, time=None, patience=100, batch=16, imgsz=640, save=True, save_period=-1, cache=False, device=None, workers=8, project=None, name=train11, exist_ok=False, pretrained=True, optimizer=auto, verbose=True, seed=0, deterministic=True, single_cls=False, rect=False, cos_lr=False, close_mosaic=10, resume=False, amp=True, fraction=1.0, profile=False, freeze=None, multi_scale=False, overlap_mask=True, mask_ratio=4, dropout=0.0, val=True, split=val, save_json=False, conf=None, iou=0.7, max_det=300, half=False, dnn=False, plots=True, source=None, vid_stride=1, stream_buffer=False, visualize=False, augment=False, agnostic_nms=False, classes=None, retina_masks=False, embed=None, show=False, save_frames=False, save_txt=False, save_conf=False, save_crop=False, show_labels=True, show_conf=True, show_boxes=True, line_width=None, format=torchscript, keras=False, optimize=False, int8=False, dynamic=False, simplify=True, opset=None, workspace=None, nms=False, lr0=0.01, lrf=0.01, momentum=0.937, weight_decay=0.0005, warmup_epochs=3.0, warmup_momentum=0.8, warmup_bias_lr=0.1, box=7.5, cls=0.5, dfl=1.5, pose=12.0, kobj=1.0, nbs=64, hsv_h=0.015, hsv_s=0.7, hsv_v=0.4, degrees=0.0, translate=0.1, scale=0.5, shear=0.0, perspective=0.0, flipud=0.0, fliplr=0.5, bgr=0.0, mosaic=1.0, mixup=0.0, cutmix=0.0, copy_paste=0.0, copy_paste_mode=flip, auto_augment=randaugment, erasing=0.4, cfg=None, tracker=botsort.yaml, save_dir=runs\\classify\\train11\n",
      "\u001b[34m\u001b[1mtrain:\u001b[0m D:\\repos\\MPAProject20242025\\dataset\\train... found 849 images in 10 classes  \n",
      "\u001b[34m\u001b[1mval:\u001b[0m D:\\repos\\MPAProject20242025\\dataset\\val... found 142 images in 10 classes  \n",
      "\u001b[34m\u001b[1mtest:\u001b[0m D:\\repos\\MPAProject20242025\\dataset\\test... found 28 images in 10 classes  \n",
      "Overriding model.yaml nc=80 with nc=10\n",
      "\n",
      "                   from  n    params  module                                       arguments                     \n",
      "  0                  -1  1       464  ultralytics.nn.modules.conv.Conv             [3, 16, 3, 2]                 \n",
      "  1                  -1  1      4672  ultralytics.nn.modules.conv.Conv             [16, 32, 3, 2]                \n",
      "  2                  -1  1      6640  ultralytics.nn.modules.block.C3k2            [32, 64, 1, False, 0.25]      \n",
      "  3                  -1  1     36992  ultralytics.nn.modules.conv.Conv             [64, 64, 3, 2]                \n",
      "  4                  -1  1     26080  ultralytics.nn.modules.block.C3k2            [64, 128, 1, False, 0.25]     \n",
      "  5                  -1  1    147712  ultralytics.nn.modules.conv.Conv             [128, 128, 3, 2]              \n",
      "  6                  -1  1     87040  ultralytics.nn.modules.block.C3k2            [128, 128, 1, True]           \n",
      "  7                  -1  1    295424  ultralytics.nn.modules.conv.Conv             [128, 256, 3, 2]              \n",
      "  8                  -1  1    346112  ultralytics.nn.modules.block.C3k2            [256, 256, 1, True]           \n",
      "  9                  -1  1    249728  ultralytics.nn.modules.block.C2PSA           [256, 256, 1]                 \n",
      " 10                  -1  1    343050  ultralytics.nn.modules.head.Classify         [256, 10]                     \n",
      "YOLO11n-cls summary: 86 layers, 1,543,914 parameters, 1,543,914 gradients, 3.3 GFLOPs\n",
      "Transferred 234/236 items from pretrained weights\n",
      "\u001b[34m\u001b[1mtrain: \u001b[0mFast image access  (ping: 0.10.0 ms, read: 297.6138.6 MB/s, size: 57.3 KB)\n"
     ]
    },
    {
     "name": "stderr",
     "output_type": "stream",
     "text": [
      "\u001b[34m\u001b[1mtrain: \u001b[0mScanning D:\\repos\\MPAProject20242025\\dataset\\train... 849 images, 0 corrupt: 100%|██████████| 849/849 [00:00<00:00, 4279.04it/s]\n"
     ]
    },
    {
     "name": "stdout",
     "output_type": "stream",
     "text": [
      "\u001b[34m\u001b[1mtrain: \u001b[0mNew cache created: D:\\repos\\MPAProject20242025\\dataset\\train.cache\n"
     ]
    },
    {
     "name": "stderr",
     "output_type": "stream",
     "text": [
      "c:\\Users\\simo6\\AppData\\Local\\Programs\\Python\\Python313\\Lib\\site-packages\\torch\\utils\\data\\dataloader.py:665: UserWarning: 'pin_memory' argument is set as true but no accelerator is found, then device pinned memory won't be used.\n",
      "  warnings.warn(warn_msg)\n"
     ]
    },
    {
     "name": "stdout",
     "output_type": "stream",
     "text": [
      "\u001b[34m\u001b[1mval: \u001b[0mFast image access  (ping: 0.10.0 ms, read: 12.111.3 MB/s, size: 83.1 KB)\n"
     ]
    },
    {
     "name": "stderr",
     "output_type": "stream",
     "text": [
      "\u001b[34m\u001b[1mval: \u001b[0mScanning D:\\repos\\MPAProject20242025\\dataset\\val... 142 images, 0 corrupt: 100%|██████████| 142/142 [00:00<00:00, 377.66it/s]"
     ]
    },
    {
     "name": "stdout",
     "output_type": "stream",
     "text": [
      "\u001b[34m\u001b[1mval: \u001b[0mNew cache created: D:\\repos\\MPAProject20242025\\dataset\\val.cache\n",
      "\u001b[34m\u001b[1moptimizer:\u001b[0m 'optimizer=auto' found, ignoring 'lr0=0.01' and 'momentum=0.937' and determining best 'optimizer', 'lr0' and 'momentum' automatically... \n",
      "\u001b[34m\u001b[1moptimizer:\u001b[0m AdamW(lr=0.000714, momentum=0.9) with parameter groups 39 weight(decay=0.0), 40 weight(decay=0.0005), 40 bias(decay=0.0)\n",
      "Image sizes 640 train, 640 val\n",
      "Using 0 dataloader workers\n",
      "Logging results to \u001b[1mruns\\classify\\train11\u001b[0m\n",
      "Starting training for 15 epochs...\n",
      "\n",
      "      Epoch    GPU_mem       loss  Instances       Size\n"
     ]
    },
    {
     "name": "stderr",
     "output_type": "stream",
     "text": [
      "\n",
      "c:\\Users\\simo6\\AppData\\Local\\Programs\\Python\\Python313\\Lib\\site-packages\\torch\\utils\\data\\dataloader.py:665: UserWarning: 'pin_memory' argument is set as true but no accelerator is found, then device pinned memory won't be used.\n",
      "  warnings.warn(warn_msg)\n",
      "       1/15         0G      1.807          1        640: 100%|██████████| 54/54 [02:30<00:00,  2.79s/it]\n",
      "               classes   top1_acc   top5_acc: 100%|██████████| 5/5 [00:08<00:00,  1.76s/it]"
     ]
    },
    {
     "name": "stdout",
     "output_type": "stream",
     "text": [
      "                   all      0.739      0.951\n"
     ]
    },
    {
     "name": "stderr",
     "output_type": "stream",
     "text": [
      "\n"
     ]
    },
    {
     "name": "stdout",
     "output_type": "stream",
     "text": [
      "\n",
      "      Epoch    GPU_mem       loss  Instances       Size\n"
     ]
    },
    {
     "name": "stderr",
     "output_type": "stream",
     "text": [
      "       2/15         0G     0.6105          1        640: 100%|██████████| 54/54 [02:23<00:00,  2.66s/it]\n",
      "               classes   top1_acc   top5_acc: 100%|██████████| 5/5 [00:08<00:00,  1.67s/it]"
     ]
    },
    {
     "name": "stdout",
     "output_type": "stream",
     "text": [
      "                   all      0.923      0.993\n",
      "\n",
      "      Epoch    GPU_mem       loss  Instances       Size\n"
     ]
    },
    {
     "name": "stderr",
     "output_type": "stream",
     "text": [
      "\n",
      "       3/15         0G     0.3342          1        640: 100%|██████████| 54/54 [02:22<00:00,  2.65s/it]\n",
      "               classes   top1_acc   top5_acc: 100%|██████████| 5/5 [00:08<00:00,  1.67s/it]"
     ]
    },
    {
     "name": "stdout",
     "output_type": "stream",
     "text": [
      "                   all      0.908          1\n",
      "\n",
      "      Epoch    GPU_mem       loss  Instances       Size\n"
     ]
    },
    {
     "name": "stderr",
     "output_type": "stream",
     "text": [
      "\n",
      "       4/15         0G     0.2254          1        640: 100%|██████████| 54/54 [02:17<00:00,  2.54s/it]\n",
      "               classes   top1_acc   top5_acc: 100%|██████████| 5/5 [00:08<00:00,  1.69s/it]"
     ]
    },
    {
     "name": "stdout",
     "output_type": "stream",
     "text": [
      "                   all      0.937          1\n",
      "\n",
      "      Epoch    GPU_mem       loss  Instances       Size\n"
     ]
    },
    {
     "name": "stderr",
     "output_type": "stream",
     "text": [
      "\n",
      "       5/15         0G     0.1785          1        640: 100%|██████████| 54/54 [02:17<00:00,  2.54s/it]\n",
      "               classes   top1_acc   top5_acc: 100%|██████████| 5/5 [00:08<00:00,  1.71s/it]"
     ]
    },
    {
     "name": "stdout",
     "output_type": "stream",
     "text": [
      "                   all      0.923          1\n",
      "\n",
      "      Epoch    GPU_mem       loss  Instances       Size\n"
     ]
    },
    {
     "name": "stderr",
     "output_type": "stream",
     "text": [
      "\n",
      "c:\\Users\\simo6\\AppData\\Local\\Programs\\Python\\Python313\\Lib\\site-packages\\torch\\utils\\data\\dataloader.py:665: UserWarning: 'pin_memory' argument is set as true but no accelerator is found, then device pinned memory won't be used.\n",
      "  warnings.warn(warn_msg)\n",
      "       6/15         0G     0.1503          1        640: 100%|██████████| 54/54 [02:16<00:00,  2.54s/it]\n",
      "               classes   top1_acc   top5_acc: 100%|██████████| 5/5 [00:08<00:00,  1.68s/it]"
     ]
    },
    {
     "name": "stdout",
     "output_type": "stream",
     "text": [
      "                   all      0.915          1\n",
      "\n",
      "      Epoch    GPU_mem       loss  Instances       Size\n"
     ]
    },
    {
     "name": "stderr",
     "output_type": "stream",
     "text": [
      "\n",
      "       7/15         0G     0.1289          1        640: 100%|██████████| 54/54 [02:17<00:00,  2.55s/it]\n",
      "               classes   top1_acc   top5_acc: 100%|██████████| 5/5 [00:08<00:00,  1.70s/it]"
     ]
    },
    {
     "name": "stdout",
     "output_type": "stream",
     "text": [
      "                   all      0.944          1\n",
      "\n",
      "      Epoch    GPU_mem       loss  Instances       Size\n"
     ]
    },
    {
     "name": "stderr",
     "output_type": "stream",
     "text": [
      "\n",
      "       8/15         0G     0.1539          1        640: 100%|██████████| 54/54 [02:16<00:00,  2.53s/it]\n",
      "               classes   top1_acc   top5_acc: 100%|██████████| 5/5 [00:08<00:00,  1.69s/it]"
     ]
    },
    {
     "name": "stdout",
     "output_type": "stream",
     "text": [
      "                   all      0.944          1\n",
      "\n",
      "      Epoch    GPU_mem       loss  Instances       Size\n"
     ]
    },
    {
     "name": "stderr",
     "output_type": "stream",
     "text": [
      "\n",
      "       9/15         0G    0.09106          1        640: 100%|██████████| 54/54 [02:18<00:00,  2.56s/it]\n",
      "               classes   top1_acc   top5_acc: 100%|██████████| 5/5 [00:08<00:00,  1.68s/it]"
     ]
    },
    {
     "name": "stdout",
     "output_type": "stream",
     "text": [
      "                   all       0.93          1\n",
      "\n",
      "      Epoch    GPU_mem       loss  Instances       Size\n"
     ]
    },
    {
     "name": "stderr",
     "output_type": "stream",
     "text": [
      "\n",
      "      10/15         0G     0.0956          1        640: 100%|██████████| 54/54 [02:23<00:00,  2.66s/it]\n",
      "               classes   top1_acc   top5_acc: 100%|██████████| 5/5 [00:08<00:00,  1.69s/it]"
     ]
    },
    {
     "name": "stdout",
     "output_type": "stream",
     "text": [
      "                   all      0.958          1\n"
     ]
    },
    {
     "name": "stderr",
     "output_type": "stream",
     "text": [
      "\n"
     ]
    },
    {
     "name": "stdout",
     "output_type": "stream",
     "text": [
      "\n",
      "      Epoch    GPU_mem       loss  Instances       Size\n"
     ]
    },
    {
     "name": "stderr",
     "output_type": "stream",
     "text": [
      "      11/15         0G    0.08858          1        640: 100%|██████████| 54/54 [02:24<00:00,  2.67s/it]\n",
      "               classes   top1_acc   top5_acc: 100%|██████████| 5/5 [00:08<00:00,  1.68s/it]"
     ]
    },
    {
     "name": "stdout",
     "output_type": "stream",
     "text": [
      "                   all      0.958          1\n",
      "\n",
      "      Epoch    GPU_mem       loss  Instances       Size\n"
     ]
    },
    {
     "name": "stderr",
     "output_type": "stream",
     "text": [
      "\n",
      "      12/15         0G    0.06756          1        640: 100%|██████████| 54/54 [02:26<00:00,  2.72s/it]\n",
      "               classes   top1_acc   top5_acc: 100%|██████████| 5/5 [00:08<00:00,  1.68s/it]"
     ]
    },
    {
     "name": "stdout",
     "output_type": "stream",
     "text": [
      "                   all      0.958          1\n",
      "\n",
      "      Epoch    GPU_mem       loss  Instances       Size\n"
     ]
    },
    {
     "name": "stderr",
     "output_type": "stream",
     "text": [
      "\n",
      "      13/15         0G    0.06533          1        640: 100%|██████████| 54/54 [02:29<00:00,  2.76s/it]\n",
      "               classes   top1_acc   top5_acc: 100%|██████████| 5/5 [00:08<00:00,  1.73s/it]"
     ]
    },
    {
     "name": "stdout",
     "output_type": "stream",
     "text": [
      "                   all      0.951          1\n",
      "\n",
      "      Epoch    GPU_mem       loss  Instances       Size\n"
     ]
    },
    {
     "name": "stderr",
     "output_type": "stream",
     "text": [
      "\n",
      "      14/15         0G    0.04273          1        640: 100%|██████████| 54/54 [02:22<00:00,  2.64s/it]\n",
      "               classes   top1_acc   top5_acc: 100%|██████████| 5/5 [00:08<00:00,  1.67s/it]"
     ]
    },
    {
     "name": "stdout",
     "output_type": "stream",
     "text": [
      "                   all      0.958          1\n",
      "\n",
      "      Epoch    GPU_mem       loss  Instances       Size\n"
     ]
    },
    {
     "name": "stderr",
     "output_type": "stream",
     "text": [
      "\n",
      "      15/15         0G    0.07781          1        640: 100%|██████████| 54/54 [02:26<00:00,  2.72s/it]\n",
      "               classes   top1_acc   top5_acc: 100%|██████████| 5/5 [00:08<00:00,  1.67s/it]"
     ]
    },
    {
     "name": "stdout",
     "output_type": "stream",
     "text": [
      "                   all      0.965          1\n",
      "\n",
      "15 epochs completed in 0.629 hours.\n"
     ]
    },
    {
     "name": "stderr",
     "output_type": "stream",
     "text": [
      "\n"
     ]
    },
    {
     "name": "stdout",
     "output_type": "stream",
     "text": [
      "Optimizer stripped from runs\\classify\\train11\\weights\\last.pt, 3.2MB\n",
      "Optimizer stripped from runs\\classify\\train11\\weights\\best.pt, 3.2MB\n",
      "\n",
      "Validating runs\\classify\\train11\\weights\\best.pt...\n",
      "Ultralytics 8.3.121  Python-3.13.0 torch-2.7.0+cpu CPU (Intel Core(TM) i5-9400F 2.90GHz)\n",
      "YOLO11n-cls summary (fused): 47 layers, 1,538,834 parameters, 0 gradients, 3.2 GFLOPs\n",
      "\u001b[34m\u001b[1mtrain:\u001b[0m D:\\repos\\MPAProject20242025\\dataset\\train... found 849 images in 10 classes  \n",
      "\u001b[34m\u001b[1mval:\u001b[0m D:\\repos\\MPAProject20242025\\dataset\\val... found 142 images in 10 classes  \n",
      "\u001b[34m\u001b[1mtest:\u001b[0m D:\\repos\\MPAProject20242025\\dataset\\test... found 28 images in 10 classes  \n"
     ]
    },
    {
     "name": "stderr",
     "output_type": "stream",
     "text": [
      "               classes   top1_acc   top5_acc: 100%|██████████| 5/5 [00:07<00:00,  1.42s/it]\n"
     ]
    },
    {
     "name": "stdout",
     "output_type": "stream",
     "text": [
      "                   all      0.965          1\n",
      "Speed: 0.0ms preprocess, 33.4ms inference, 0.0ms loss, 0.0ms postprocess per image\n",
      "Results saved to \u001b[1mruns\\classify\\train11\u001b[0m\n"
     ]
    }
   ],
   "source": [
    "from ultralytics import YOLO\n",
    "\n",
    "dataset = \"./dataset\"\n",
    "num_of_epochs = 15\n",
    "image_size = 640\n",
    "\n",
    "model = YOLO(\"yolo11n-cls.pt\")\n",
    "\n",
    "results = model.train(data=\"./dataset\", epochs=num_of_epochs, imgsz=image_size)"
   ]
  },
  {
   "cell_type": "code",
   "execution_count": 3,
   "id": "b6dc71ac",
   "metadata": {},
   "outputs": [
    {
     "name": "stdout",
     "output_type": "stream",
     "text": [
      "\n",
      "image 1/1 d:\\repos\\MPAProject20242025\\drawings\\adam_drawing.jpeg: 640x640 adam 0.92, monalisa 0.02, venere 0.02, pearl 0.02, vangogh 0.01, 44.9ms\n",
      "Speed: 16.2ms preprocess, 44.9ms inference, 0.0ms postprocess per image at shape (1, 3, 640, 640)\n",
      "\n",
      "image 1/1 d:\\repos\\MPAProject20242025\\drawings\\am_goth_drawing.jpeg: 640x640 am_goth 0.99, kiss 0.00, sunday 0.00, monalisa 0.00, venere 0.00, 30.9ms\n",
      "Speed: 6.3ms preprocess, 30.9ms inference, 0.0ms postprocess per image at shape (1, 3, 640, 640)\n",
      "\n",
      "image 1/1 d:\\repos\\MPAProject20242025\\drawings\\am_goth_drawing_2.jpg: 640x640 am_goth 0.99, sunday 0.00, monalisa 0.00, kiss 0.00, liberty 0.00, 31.3ms\n",
      "Speed: 6.5ms preprocess, 31.3ms inference, 0.0ms postprocess per image at shape (1, 3, 640, 640)\n",
      "\n",
      "image 1/1 d:\\repos\\MPAProject20242025\\drawings\\avengers.png: 640x640 vangogh 0.74, monalisa 0.11, pearl 0.10, scream 0.02, venere 0.02, 28.5ms\n",
      "Speed: 6.3ms preprocess, 28.5ms inference, 0.0ms postprocess per image at shape (1, 3, 640, 640)\n",
      "\n",
      "image 1/1 d:\\repos\\MPAProject20242025\\drawings\\extra.jpg: 640x640 scream 0.98, pearl 0.01, vangogh 0.01, monalisa 0.00, adam 0.00, 36.7ms\n",
      "Speed: 6.1ms preprocess, 36.7ms inference, 0.0ms postprocess per image at shape (1, 3, 640, 640)\n",
      "\n",
      "image 1/1 d:\\repos\\MPAProject20242025\\drawings\\kiss_drawing.jpg: 640x640 kiss 1.00, am_goth 0.00, monalisa 0.00, pearl 0.00, vangogh 0.00, 31.9ms\n",
      "Speed: 6.8ms preprocess, 31.9ms inference, 0.0ms postprocess per image at shape (1, 3, 640, 640)\n",
      "\n",
      "image 1/1 d:\\repos\\MPAProject20242025\\drawings\\liberty_drawing.jpg: 640x640 liberty 0.67, adam 0.11, vangogh 0.06, venere 0.04, monalisa 0.03, 32.7ms\n",
      "Speed: 7.5ms preprocess, 32.7ms inference, 0.0ms postprocess per image at shape (1, 3, 640, 640)\n",
      "\n",
      "image 1/1 d:\\repos\\MPAProject20242025\\drawings\\liberty_drawing_2.jpeg: 640x640 liberty 0.94, adam 0.03, sunday 0.01, vangogh 0.01, venere 0.00, 32.8ms\n",
      "Speed: 12.8ms preprocess, 32.8ms inference, 0.0ms postprocess per image at shape (1, 3, 640, 640)\n",
      "\n",
      "image 1/1 d:\\repos\\MPAProject20242025\\drawings\\liberty_drawing_alone.jpg: 640x640 pearl 0.33, monalisa 0.21, vangogh 0.18, adam 0.10, liberty 0.06, 32.4ms\n",
      "Speed: 6.8ms preprocess, 32.4ms inference, 0.0ms postprocess per image at shape (1, 3, 640, 640)\n",
      "\n",
      "image 1/1 d:\\repos\\MPAProject20242025\\drawings\\liberty_drawing_alone_2.jpg: 640x640 liberty 0.49, monalisa 0.13, adam 0.12, vangogh 0.06, venere 0.06, 34.1ms\n",
      "Speed: 8.0ms preprocess, 34.1ms inference, 0.0ms postprocess per image at shape (1, 3, 640, 640)\n",
      "\n",
      "image 1/1 d:\\repos\\MPAProject20242025\\drawings\\monalisa_drawing.png: 640x640 monalisa 0.66, vangogh 0.16, am_goth 0.07, liberty 0.06, pearl 0.02, 32.0ms\n",
      "Speed: 6.4ms preprocess, 32.0ms inference, 0.0ms postprocess per image at shape (1, 3, 640, 640)\n",
      "\n",
      "image 1/1 d:\\repos\\MPAProject20242025\\drawings\\monalisa_drawing_2.jpeg: 640x640 monalisa 0.91, vangogh 0.07, adam 0.01, venere 0.00, pearl 0.00, 33.2ms\n",
      "Speed: 7.7ms preprocess, 33.2ms inference, 0.0ms postprocess per image at shape (1, 3, 640, 640)\n",
      "\n",
      "image 1/1 d:\\repos\\MPAProject20242025\\drawings\\monalisa_drawing_2.jpg: 640x640 monalisa 0.93, am_goth 0.07, pearl 0.00, vangogh 0.00, kiss 0.00, 34.9ms\n",
      "Speed: 7.0ms preprocess, 34.9ms inference, 0.0ms postprocess per image at shape (1, 3, 640, 640)\n",
      "\n",
      "image 1/1 d:\\repos\\MPAProject20242025\\drawings\\monalisa_drawing_3.jpeg: 640x640 monalisa 0.91, vangogh 0.07, adam 0.01, venere 0.00, pearl 0.00, 33.9ms\n",
      "Speed: 6.1ms preprocess, 33.9ms inference, 0.0ms postprocess per image at shape (1, 3, 640, 640)\n",
      "\n",
      "image 1/1 d:\\repos\\MPAProject20242025\\drawings\\monalisa_drawing_4.png: 640x640 monalisa 0.98, vangogh 0.02, pearl 0.01, adam 0.00, am_goth 0.00, 37.5ms\n",
      "Speed: 8.5ms preprocess, 37.5ms inference, 0.0ms postprocess per image at shape (1, 3, 640, 640)\n",
      "\n",
      "image 1/1 d:\\repos\\MPAProject20242025\\drawings\\monalisa_drawing_5.png: 640x640 monalisa 1.00, vangogh 0.00, pearl 0.00, am_goth 0.00, adam 0.00, 34.9ms\n",
      "Speed: 7.5ms preprocess, 34.9ms inference, 0.0ms postprocess per image at shape (1, 3, 640, 640)\n",
      "\n",
      "image 1/1 d:\\repos\\MPAProject20242025\\drawings\\monalisa_drawing_6.jpg: 640x640 monalisa 0.99, vangogh 0.00, am_goth 0.00, liberty 0.00, adam 0.00, 37.3ms\n",
      "Speed: 6.7ms preprocess, 37.3ms inference, 0.0ms postprocess per image at shape (1, 3, 640, 640)\n",
      "\n",
      "image 1/1 d:\\repos\\MPAProject20242025\\drawings\\pearl_drawing.jpg: 640x640 pearl 0.92, monalisa 0.02, am_goth 0.02, adam 0.01, vangogh 0.01, 33.5ms\n",
      "Speed: 6.7ms preprocess, 33.5ms inference, 0.0ms postprocess per image at shape (1, 3, 640, 640)\n",
      "\n",
      "image 1/1 d:\\repos\\MPAProject20242025\\drawings\\pearl_drawing_2.jpg: 640x640 pearl 0.96, vangogh 0.02, monalisa 0.01, venere 0.00, adam 0.00, 36.5ms\n",
      "Speed: 6.9ms preprocess, 36.5ms inference, 0.0ms postprocess per image at shape (1, 3, 640, 640)\n",
      "\n",
      "image 1/1 d:\\repos\\MPAProject20242025\\drawings\\pearl_drawing_3.jpg: 640x640 pearl 0.78, monalisa 0.16, vangogh 0.04, adam 0.01, kiss 0.01, 37.4ms\n",
      "Speed: 5.9ms preprocess, 37.4ms inference, 0.0ms postprocess per image at shape (1, 3, 640, 640)\n",
      "\n",
      "image 1/1 d:\\repos\\MPAProject20242025\\drawings\\pearl_drawing_4.jpg: 640x640 pearl 0.51, vangogh 0.26, monalisa 0.19, adam 0.01, venere 0.01, 36.5ms\n",
      "Speed: 6.2ms preprocess, 36.5ms inference, 0.0ms postprocess per image at shape (1, 3, 640, 640)\n",
      "\n",
      "image 1/1 d:\\repos\\MPAProject20242025\\drawings\\pearl_drawing_5.jpg: 640x640 pearl 1.00, monalisa 0.00, am_goth 0.00, venere 0.00, kiss 0.00, 38.5ms\n",
      "Speed: 6.2ms preprocess, 38.5ms inference, 0.0ms postprocess per image at shape (1, 3, 640, 640)\n",
      "\n",
      "image 1/1 d:\\repos\\MPAProject20242025\\drawings\\pearl_drawing_6.jpg: 640x640 pearl 0.91, am_goth 0.04, monalisa 0.02, kiss 0.01, venere 0.01, 35.6ms\n",
      "Speed: 6.9ms preprocess, 35.6ms inference, 0.0ms postprocess per image at shape (1, 3, 640, 640)\n",
      "\n",
      "image 1/1 d:\\repos\\MPAProject20242025\\drawings\\pearl_drawing_7.jpg: 640x640 pearl 0.81, monalisa 0.11, am_goth 0.03, vangogh 0.01, kiss 0.01, 36.0ms\n",
      "Speed: 7.8ms preprocess, 36.0ms inference, 0.0ms postprocess per image at shape (1, 3, 640, 640)\n",
      "\n",
      "image 1/1 d:\\repos\\MPAProject20242025\\drawings\\scream_drawing.jpg: 640x640 scream 0.79, vangogh 0.09, adam 0.04, pearl 0.03, venere 0.03, 36.2ms\n",
      "Speed: 6.5ms preprocess, 36.2ms inference, 0.0ms postprocess per image at shape (1, 3, 640, 640)\n",
      "\n",
      "image 1/1 d:\\repos\\MPAProject20242025\\drawings\\scream_drawing_simpler.jpg: 640x640 scream 0.89, vangogh 0.04, venere 0.02, adam 0.02, pearl 0.01, 37.0ms\n",
      "Speed: 5.5ms preprocess, 37.0ms inference, 0.0ms postprocess per image at shape (1, 3, 640, 640)\n",
      "\n",
      "image 1/1 d:\\repos\\MPAProject20242025\\drawings\\sunday_drawing.jpg: 640x640 sunday 0.35, venere 0.28, adam 0.17, liberty 0.08, monalisa 0.06, 34.8ms\n",
      "Speed: 8.9ms preprocess, 34.8ms inference, 0.0ms postprocess per image at shape (1, 3, 640, 640)\n",
      "\n",
      "image 1/1 d:\\repos\\MPAProject20242025\\drawings\\sunday_drawing_simpler.png: 640x640 venere 0.36, liberty 0.19, monalisa 0.14, am_goth 0.11, sunday 0.11, 31.8ms\n",
      "Speed: 6.4ms preprocess, 31.8ms inference, 0.0ms postprocess per image at shape (1, 3, 640, 640)\n",
      "\n",
      "image 1/1 d:\\repos\\MPAProject20242025\\drawings\\vangogh_drawing.jpg: 640x640 vangogh 0.39, liberty 0.21, monalisa 0.09, pearl 0.08, am_goth 0.06, 37.6ms\n",
      "Speed: 5.7ms preprocess, 37.6ms inference, 0.0ms postprocess per image at shape (1, 3, 640, 640)\n",
      "\n",
      "image 1/1 d:\\repos\\MPAProject20242025\\drawings\\venere_drawing.jpg: 640x640 venere 0.91, adam 0.09, monalisa 0.00, vangogh 0.00, liberty 0.00, 37.7ms\n",
      "Speed: 6.3ms preprocess, 37.7ms inference, 0.0ms postprocess per image at shape (1, 3, 640, 640)\n",
      "\n",
      "image 1/1 d:\\repos\\MPAProject20242025\\drawings\\venere_drawing_simpler.jpeg: 640x640 venere 0.93, liberty 0.02, adam 0.02, vangogh 0.02, monalisa 0.01, 37.1ms\n",
      "Speed: 6.3ms preprocess, 37.1ms inference, 0.0ms postprocess per image at shape (1, 3, 640, 640)\n"
     ]
    }
   ],
   "source": [
    "from ultralytics import YOLO\n",
    "import os\n",
    "\n",
    "directory = \"./drawings\"\n",
    "modelName = \"./runs/classify/train9/weights/best.pt\"\n",
    "\n",
    "newModel = YOLO(modelName)\n",
    "\n",
    "for name in os.listdir(directory):\n",
    "    result = newModel(f\"{directory}/{name}\")"
   ]
  }
 ],
 "metadata": {
  "kernelspec": {
   "display_name": "Python 3",
   "language": "python",
   "name": "python3"
  },
  "language_info": {
   "codemirror_mode": {
    "name": "ipython",
    "version": 3
   },
   "file_extension": ".py",
   "mimetype": "text/x-python",
   "name": "python",
   "nbconvert_exporter": "python",
   "pygments_lexer": "ipython3",
   "version": "3.13.0"
  }
 },
 "nbformat": 4,
 "nbformat_minor": 5
}
